{
  "cells": [
    {
      "cell_type": "markdown",
      "source": [
        "This dataset contains information about drug classification based on patient \n",
        "general information and its diagnosis. Machine learning model is needed in order to predict the outcome of the drugs type that might be suitable for the patient.\n",
        "\n",
        "**The machine learning models used in this project are:** \n",
        "\n",
        "Linear Logistic Regression\n",
        "\n",
        "Linear Support Vector Machine (SVM)\n",
        "\n",
        "K Neighbours\n",
        "\n",
        "Naive Bayes (Categorical & Gaussian)\n",
        "\n",
        "Decision Tree\n",
        "\n",
        "Random Forest\n",
        "\n",
        "\n",
        "**Data Set Description**\n",
        "\n",
        "There are 6 variables in this data set:\n",
        "\n",
        "4 categorical variables,and\n",
        "\n",
        "2 continuous variables."
      ],
      "metadata": {
        "id": "R4Tiyvmw9uZz"
      },
      "id": "R4Tiyvmw9uZz"
    },
    {
      "cell_type": "code",
      "source": [
        "from google.colab import drive\n",
        "drive.mount('/content/drive')"
      ],
      "metadata": {
        "colab": {
          "base_uri": "https://localhost:8080/"
        },
        "id": "gSebrKavK7XH",
        "outputId": "a84be356-6790-4b89-86f2-0076eccacc6f"
      },
      "id": "gSebrKavK7XH",
      "execution_count": 1,
      "outputs": [
        {
          "output_type": "stream",
          "name": "stdout",
          "text": [
            "Mounted at /content/drive\n"
          ]
        }
      ]
    },
    {
      "cell_type": "markdown",
      "id": "27788eec",
      "metadata": {
        "id": "27788eec",
        "papermill": {
          "duration": 0.056141,
          "end_time": "2022-05-04T02:53:14.745581",
          "exception": false,
          "start_time": "2022-05-04T02:53:14.689440",
          "status": "completed"
        },
        "tags": []
      },
      "source": [
        "# Importing Libraries\n",
        "--> **Importing libraries** that will be used in this notebook."
      ]
    },
    {
      "cell_type": "code",
      "execution_count": 2,
      "id": "90539c1c",
      "metadata": {
        "execution": {
          "iopub.execute_input": "2022-05-04T02:53:14.868028Z",
          "iopub.status.busy": "2022-05-04T02:53:14.866226Z",
          "iopub.status.idle": "2022-05-04T02:53:15.799024Z",
          "shell.execute_reply": "2022-05-04T02:53:15.798287Z",
          "shell.execute_reply.started": "2022-03-08T01:25:02.454964Z"
        },
        "id": "90539c1c",
        "papermill": {
          "duration": 0.996157,
          "end_time": "2022-05-04T02:53:15.799208",
          "exception": false,
          "start_time": "2022-05-04T02:53:14.803051",
          "status": "completed"
        },
        "tags": []
      },
      "outputs": [],
      "source": [
        "import numpy as np\n",
        "import pandas as pd\n",
        "import matplotlib.pyplot as plt\n",
        "import seaborn as sns\n",
        "import os"
      ]
    },
    {
      "cell_type": "markdown",
      "id": "7c467cc9",
      "metadata": {
        "id": "7c467cc9",
        "papermill": {
          "duration": 0.057851,
          "end_time": "2022-05-04T02:53:15.913048",
          "exception": false,
          "start_time": "2022-05-04T02:53:15.855197",
          "status": "completed"
        },
        "tags": []
      },
      "source": [
        "# Reading Data Set\n",
        "--> After importing libraries, we will also **import the dataset** that will be used."
      ]
    },
    {
      "cell_type": "code",
      "execution_count": 3,
      "id": "a1887adb",
      "metadata": {
        "execution": {
          "iopub.execute_input": "2022-05-04T02:53:16.032035Z",
          "iopub.status.busy": "2022-05-04T02:53:16.030941Z",
          "iopub.status.idle": "2022-05-04T02:53:16.050526Z",
          "shell.execute_reply": "2022-05-04T02:53:16.051084Z",
          "shell.execute_reply.started": "2022-03-08T01:25:03.464398Z"
        },
        "id": "a1887adb",
        "papermill": {
          "duration": 0.081087,
          "end_time": "2022-05-04T02:53:16.051265",
          "exception": false,
          "start_time": "2022-05-04T02:53:15.970178",
          "status": "completed"
        },
        "tags": []
      },
      "outputs": [],
      "source": [
        "df_drug = pd.read_csv(\"/content/drive/MyDrive/Colab Notebooks/BIA/My projects/Drug Classification/drug200.csv\")"
      ]
    },
    {
      "cell_type": "markdown",
      "id": "68df4414",
      "metadata": {
        "papermill": {
          "duration": 0.056074,
          "end_time": "2022-05-04T02:53:16.164769",
          "exception": false,
          "start_time": "2022-05-04T02:53:16.108695",
          "status": "completed"
        },
        "tags": [],
        "id": "68df4414"
      },
      "source": [
        "--> Read the first 6 rows in the dataset."
      ]
    },
    {
      "cell_type": "code",
      "execution_count": 4,
      "id": "88dfdd91",
      "metadata": {
        "execution": {
          "iopub.execute_input": "2022-05-04T02:53:16.281366Z",
          "iopub.status.busy": "2022-05-04T02:53:16.280346Z",
          "iopub.status.idle": "2022-05-04T02:53:16.301671Z",
          "shell.execute_reply": "2022-05-04T02:53:16.302171Z",
          "shell.execute_reply.started": "2022-03-08T01:25:03.485176Z"
        },
        "id": "88dfdd91",
        "outputId": "27ead441-d2b7-4f62-e108-dd650876d5f8",
        "papermill": {
          "duration": 0.081123,
          "end_time": "2022-05-04T02:53:16.302346",
          "exception": false,
          "start_time": "2022-05-04T02:53:16.221223",
          "status": "completed"
        },
        "tags": [],
        "colab": {
          "base_uri": "https://localhost:8080/",
          "height": 206
        }
      },
      "outputs": [
        {
          "output_type": "execute_result",
          "data": {
            "text/plain": [
              "   Age Sex      BP Cholesterol  Na_to_K   Drug\n",
              "0   23   F    HIGH        HIGH   25.355  drugY\n",
              "1   47   M     LOW        HIGH   13.093  drugC\n",
              "2   47   M     LOW        HIGH   10.114  drugC\n",
              "3   28   F  NORMAL        HIGH    7.798  drugX\n",
              "4   61   F     LOW        HIGH   18.043  drugY"
            ],
            "text/html": [
              "\n",
              "  <div id=\"df-d9e2b25e-cc76-493c-9a51-b84014648835\">\n",
              "    <div class=\"colab-df-container\">\n",
              "      <div>\n",
              "<style scoped>\n",
              "    .dataframe tbody tr th:only-of-type {\n",
              "        vertical-align: middle;\n",
              "    }\n",
              "\n",
              "    .dataframe tbody tr th {\n",
              "        vertical-align: top;\n",
              "    }\n",
              "\n",
              "    .dataframe thead th {\n",
              "        text-align: right;\n",
              "    }\n",
              "</style>\n",
              "<table border=\"1\" class=\"dataframe\">\n",
              "  <thead>\n",
              "    <tr style=\"text-align: right;\">\n",
              "      <th></th>\n",
              "      <th>Age</th>\n",
              "      <th>Sex</th>\n",
              "      <th>BP</th>\n",
              "      <th>Cholesterol</th>\n",
              "      <th>Na_to_K</th>\n",
              "      <th>Drug</th>\n",
              "    </tr>\n",
              "  </thead>\n",
              "  <tbody>\n",
              "    <tr>\n",
              "      <th>0</th>\n",
              "      <td>23</td>\n",
              "      <td>F</td>\n",
              "      <td>HIGH</td>\n",
              "      <td>HIGH</td>\n",
              "      <td>25.355</td>\n",
              "      <td>drugY</td>\n",
              "    </tr>\n",
              "    <tr>\n",
              "      <th>1</th>\n",
              "      <td>47</td>\n",
              "      <td>M</td>\n",
              "      <td>LOW</td>\n",
              "      <td>HIGH</td>\n",
              "      <td>13.093</td>\n",
              "      <td>drugC</td>\n",
              "    </tr>\n",
              "    <tr>\n",
              "      <th>2</th>\n",
              "      <td>47</td>\n",
              "      <td>M</td>\n",
              "      <td>LOW</td>\n",
              "      <td>HIGH</td>\n",
              "      <td>10.114</td>\n",
              "      <td>drugC</td>\n",
              "    </tr>\n",
              "    <tr>\n",
              "      <th>3</th>\n",
              "      <td>28</td>\n",
              "      <td>F</td>\n",
              "      <td>NORMAL</td>\n",
              "      <td>HIGH</td>\n",
              "      <td>7.798</td>\n",
              "      <td>drugX</td>\n",
              "    </tr>\n",
              "    <tr>\n",
              "      <th>4</th>\n",
              "      <td>61</td>\n",
              "      <td>F</td>\n",
              "      <td>LOW</td>\n",
              "      <td>HIGH</td>\n",
              "      <td>18.043</td>\n",
              "      <td>drugY</td>\n",
              "    </tr>\n",
              "  </tbody>\n",
              "</table>\n",
              "</div>\n",
              "      <button class=\"colab-df-convert\" onclick=\"convertToInteractive('df-d9e2b25e-cc76-493c-9a51-b84014648835')\"\n",
              "              title=\"Convert this dataframe to an interactive table.\"\n",
              "              style=\"display:none;\">\n",
              "        \n",
              "  <svg xmlns=\"http://www.w3.org/2000/svg\" height=\"24px\"viewBox=\"0 0 24 24\"\n",
              "       width=\"24px\">\n",
              "    <path d=\"M0 0h24v24H0V0z\" fill=\"none\"/>\n",
              "    <path d=\"M18.56 5.44l.94 2.06.94-2.06 2.06-.94-2.06-.94-.94-2.06-.94 2.06-2.06.94zm-11 1L8.5 8.5l.94-2.06 2.06-.94-2.06-.94L8.5 2.5l-.94 2.06-2.06.94zm10 10l.94 2.06.94-2.06 2.06-.94-2.06-.94-.94-2.06-.94 2.06-2.06.94z\"/><path d=\"M17.41 7.96l-1.37-1.37c-.4-.4-.92-.59-1.43-.59-.52 0-1.04.2-1.43.59L10.3 9.45l-7.72 7.72c-.78.78-.78 2.05 0 2.83L4 21.41c.39.39.9.59 1.41.59.51 0 1.02-.2 1.41-.59l7.78-7.78 2.81-2.81c.8-.78.8-2.07 0-2.86zM5.41 20L4 18.59l7.72-7.72 1.47 1.35L5.41 20z\"/>\n",
              "  </svg>\n",
              "      </button>\n",
              "      \n",
              "  <style>\n",
              "    .colab-df-container {\n",
              "      display:flex;\n",
              "      flex-wrap:wrap;\n",
              "      gap: 12px;\n",
              "    }\n",
              "\n",
              "    .colab-df-convert {\n",
              "      background-color: #E8F0FE;\n",
              "      border: none;\n",
              "      border-radius: 50%;\n",
              "      cursor: pointer;\n",
              "      display: none;\n",
              "      fill: #1967D2;\n",
              "      height: 32px;\n",
              "      padding: 0 0 0 0;\n",
              "      width: 32px;\n",
              "    }\n",
              "\n",
              "    .colab-df-convert:hover {\n",
              "      background-color: #E2EBFA;\n",
              "      box-shadow: 0px 1px 2px rgba(60, 64, 67, 0.3), 0px 1px 3px 1px rgba(60, 64, 67, 0.15);\n",
              "      fill: #174EA6;\n",
              "    }\n",
              "\n",
              "    [theme=dark] .colab-df-convert {\n",
              "      background-color: #3B4455;\n",
              "      fill: #D2E3FC;\n",
              "    }\n",
              "\n",
              "    [theme=dark] .colab-df-convert:hover {\n",
              "      background-color: #434B5C;\n",
              "      box-shadow: 0px 1px 3px 1px rgba(0, 0, 0, 0.15);\n",
              "      filter: drop-shadow(0px 1px 2px rgba(0, 0, 0, 0.3));\n",
              "      fill: #FFFFFF;\n",
              "    }\n",
              "  </style>\n",
              "\n",
              "      <script>\n",
              "        const buttonEl =\n",
              "          document.querySelector('#df-d9e2b25e-cc76-493c-9a51-b84014648835 button.colab-df-convert');\n",
              "        buttonEl.style.display =\n",
              "          google.colab.kernel.accessAllowed ? 'block' : 'none';\n",
              "\n",
              "        async function convertToInteractive(key) {\n",
              "          const element = document.querySelector('#df-d9e2b25e-cc76-493c-9a51-b84014648835');\n",
              "          const dataTable =\n",
              "            await google.colab.kernel.invokeFunction('convertToInteractive',\n",
              "                                                     [key], {});\n",
              "          if (!dataTable) return;\n",
              "\n",
              "          const docLinkHtml = 'Like what you see? Visit the ' +\n",
              "            '<a target=\"_blank\" href=https://colab.research.google.com/notebooks/data_table.ipynb>data table notebook</a>'\n",
              "            + ' to learn more about interactive tables.';\n",
              "          element.innerHTML = '';\n",
              "          dataTable['output_type'] = 'display_data';\n",
              "          await google.colab.output.renderOutput(dataTable, element);\n",
              "          const docLink = document.createElement('div');\n",
              "          docLink.innerHTML = docLinkHtml;\n",
              "          element.appendChild(docLink);\n",
              "        }\n",
              "      </script>\n",
              "    </div>\n",
              "  </div>\n",
              "  "
            ]
          },
          "metadata": {},
          "execution_count": 4
        }
      ],
      "source": [
        "df_drug.head()"
      ]
    },
    {
      "cell_type": "markdown",
      "id": "7b55524c",
      "metadata": {
        "papermill": {
          "duration": 0.056709,
          "end_time": "2022-05-04T02:53:16.416150",
          "exception": false,
          "start_time": "2022-05-04T02:53:16.359441",
          "status": "completed"
        },
        "tags": [],
        "id": "7b55524c"
      },
      "source": [
        "--> Data type and checking null in dataset."
      ]
    },
    {
      "cell_type": "code",
      "execution_count": 5,
      "id": "843912cf",
      "metadata": {
        "execution": {
          "iopub.execute_input": "2022-05-04T02:53:16.533336Z",
          "iopub.status.busy": "2022-05-04T02:53:16.532328Z",
          "iopub.status.idle": "2022-05-04T02:53:16.554669Z",
          "shell.execute_reply": "2022-05-04T02:53:16.554090Z",
          "shell.execute_reply.started": "2022-03-08T01:25:03.511066Z"
        },
        "id": "843912cf",
        "outputId": "92ebfe61-9661-4de1-b10a-ea14a51d2d0c",
        "papermill": {
          "duration": 0.082029,
          "end_time": "2022-05-04T02:53:16.554807",
          "exception": false,
          "start_time": "2022-05-04T02:53:16.472778",
          "status": "completed"
        },
        "tags": [],
        "colab": {
          "base_uri": "https://localhost:8080/"
        }
      },
      "outputs": [
        {
          "output_type": "stream",
          "name": "stdout",
          "text": [
            "<class 'pandas.core.frame.DataFrame'>\n",
            "RangeIndex: 200 entries, 0 to 199\n",
            "Data columns (total 6 columns):\n",
            " #   Column       Non-Null Count  Dtype  \n",
            "---  ------       --------------  -----  \n",
            " 0   Age          200 non-null    int64  \n",
            " 1   Sex          200 non-null    object \n",
            " 2   BP           200 non-null    object \n",
            " 3   Cholesterol  200 non-null    object \n",
            " 4   Na_to_K      200 non-null    float64\n",
            " 5   Drug         200 non-null    object \n",
            "dtypes: float64(1), int64(1), object(4)\n",
            "memory usage: 9.5+ KB\n",
            "None\n"
          ]
        }
      ],
      "source": [
        "print(df_drug.info())"
      ]
    },
    {
      "cell_type": "markdown",
      "id": "860ca740",
      "metadata": {
        "id": "860ca740",
        "papermill": {
          "duration": 0.057812,
          "end_time": "2022-05-04T02:53:16.669450",
          "exception": false,
          "start_time": "2022-05-04T02:53:16.611638",
          "status": "completed"
        },
        "tags": []
      },
      "source": [
        "--> From the results above, **there are no missing/null value** in this dataset"
      ]
    },
    {
      "cell_type": "markdown",
      "id": "f6279dae",
      "metadata": {
        "id": "f6279dae",
        "papermill": {
          "duration": 0.057495,
          "end_time": "2022-05-04T02:53:16.784589",
          "exception": false,
          "start_time": "2022-05-04T02:53:16.727094",
          "status": "completed"
        },
        "tags": []
      },
      "source": [
        "# Initial Dataset Exploration\n",
        "--> This section will explore raw dataset that has been imported."
      ]
    },
    {
      "cell_type": "markdown",
      "id": "a31947ac",
      "metadata": {
        "id": "a31947ac",
        "papermill": {
          "duration": 0.057762,
          "end_time": "2022-05-04T02:53:16.899871",
          "exception": false,
          "start_time": "2022-05-04T02:53:16.842109",
          "status": "completed"
        },
        "tags": []
      },
      "source": [
        "## Categorical Variables"
      ]
    },
    {
      "cell_type": "code",
      "execution_count": 6,
      "id": "e050f655",
      "metadata": {
        "execution": {
          "iopub.execute_input": "2022-05-04T02:53:17.021656Z",
          "iopub.status.busy": "2022-05-04T02:53:17.020936Z",
          "iopub.status.idle": "2022-05-04T02:53:17.023487Z",
          "shell.execute_reply": "2022-05-04T02:53:17.023965Z",
          "shell.execute_reply.started": "2022-03-08T01:25:03.538492Z"
        },
        "id": "e050f655",
        "outputId": "fedf4448-cd1f-4d5f-ebc6-d42ffa4ce7cf",
        "papermill": {
          "duration": 0.066593,
          "end_time": "2022-05-04T02:53:17.024144",
          "exception": false,
          "start_time": "2022-05-04T02:53:16.957551",
          "status": "completed"
        },
        "tags": [],
        "colab": {
          "base_uri": "https://localhost:8080/"
        }
      },
      "outputs": [
        {
          "output_type": "execute_result",
          "data": {
            "text/plain": [
              "drugY    91\n",
              "drugX    54\n",
              "drugA    23\n",
              "drugC    16\n",
              "drugB    16\n",
              "Name: Drug, dtype: int64"
            ]
          },
          "metadata": {},
          "execution_count": 6
        }
      ],
      "source": [
        "df_drug.Drug.value_counts()"
      ]
    },
    {
      "cell_type": "markdown",
      "id": "caa5dd68",
      "metadata": {
        "papermill": {
          "duration": 0.057562,
          "end_time": "2022-05-04T02:53:17.141493",
          "exception": false,
          "start_time": "2022-05-04T02:53:17.083931",
          "status": "completed"
        },
        "tags": [],
        "id": "caa5dd68"
      },
      "source": [
        "--> It can be seen that from results above, DrugY has more amount than other types of drugs"
      ]
    },
    {
      "cell_type": "code",
      "execution_count": 7,
      "id": "bbef0bb9",
      "metadata": {
        "execution": {
          "iopub.execute_input": "2022-05-04T02:53:17.266669Z",
          "iopub.status.busy": "2022-05-04T02:53:17.265888Z",
          "iopub.status.idle": "2022-05-04T02:53:17.268554Z",
          "shell.execute_reply": "2022-05-04T02:53:17.269050Z",
          "shell.execute_reply.started": "2022-03-08T01:25:03.546771Z"
        },
        "id": "bbef0bb9",
        "outputId": "b0e61d76-aa88-46cd-c067-edb5fcf45cc7",
        "papermill": {
          "duration": 0.069027,
          "end_time": "2022-05-04T02:53:17.269219",
          "exception": false,
          "start_time": "2022-05-04T02:53:17.200192",
          "status": "completed"
        },
        "tags": [],
        "colab": {
          "base_uri": "https://localhost:8080/"
        }
      },
      "outputs": [
        {
          "output_type": "execute_result",
          "data": {
            "text/plain": [
              "M    104\n",
              "F     96\n",
              "Name: Sex, dtype: int64"
            ]
          },
          "metadata": {},
          "execution_count": 7
        }
      ],
      "source": [
        "df_drug.Sex.value_counts()"
      ]
    },
    {
      "cell_type": "markdown",
      "id": "07b15aad",
      "metadata": {
        "papermill": {
          "duration": 0.058057,
          "end_time": "2022-05-04T02:53:17.385194",
          "exception": false,
          "start_time": "2022-05-04T02:53:17.327137",
          "status": "completed"
        },
        "tags": [],
        "id": "07b15aad"
      },
      "source": [
        "--> The distribution of patient gender is balanced."
      ]
    },
    {
      "cell_type": "code",
      "execution_count": 8,
      "id": "9b0f21a5",
      "metadata": {
        "execution": {
          "iopub.execute_input": "2022-05-04T02:53:17.504646Z",
          "iopub.status.busy": "2022-05-04T02:53:17.503962Z",
          "iopub.status.idle": "2022-05-04T02:53:17.510342Z",
          "shell.execute_reply": "2022-05-04T02:53:17.510834Z",
          "shell.execute_reply.started": "2022-03-08T01:25:03.563382Z"
        },
        "id": "9b0f21a5",
        "outputId": "8c0a7b69-c0a8-4b08-a293-d9b7c7c59cd6",
        "papermill": {
          "duration": 0.068053,
          "end_time": "2022-05-04T02:53:17.511016",
          "exception": false,
          "start_time": "2022-05-04T02:53:17.442963",
          "status": "completed"
        },
        "tags": [],
        "colab": {
          "base_uri": "https://localhost:8080/"
        }
      },
      "outputs": [
        {
          "output_type": "execute_result",
          "data": {
            "text/plain": [
              "HIGH      77\n",
              "LOW       64\n",
              "NORMAL    59\n",
              "Name: BP, dtype: int64"
            ]
          },
          "metadata": {},
          "execution_count": 8
        }
      ],
      "source": [
        "df_drug.BP.value_counts()"
      ]
    },
    {
      "cell_type": "markdown",
      "id": "56a6a9c1",
      "metadata": {
        "papermill": {
          "duration": 0.05821,
          "end_time": "2022-05-04T02:53:17.627278",
          "exception": false,
          "start_time": "2022-05-04T02:53:17.569068",
          "status": "completed"
        },
        "tags": [],
        "id": "56a6a9c1"
      },
      "source": [
        "--> The distribution of blood pressure level is balanced."
      ]
    },
    {
      "cell_type": "code",
      "execution_count": 9,
      "id": "5752ef37",
      "metadata": {
        "execution": {
          "iopub.execute_input": "2022-05-04T02:53:17.747354Z",
          "iopub.status.busy": "2022-05-04T02:53:17.746682Z",
          "iopub.status.idle": "2022-05-04T02:53:17.753436Z",
          "shell.execute_reply": "2022-05-04T02:53:17.753894Z",
          "shell.execute_reply.started": "2022-03-08T01:25:03.57581Z"
        },
        "id": "5752ef37",
        "outputId": "15fdc5ce-8154-4afb-987b-e99cc1733368",
        "papermill": {
          "duration": 0.068382,
          "end_time": "2022-05-04T02:53:17.754083",
          "exception": false,
          "start_time": "2022-05-04T02:53:17.685701",
          "status": "completed"
        },
        "tags": [],
        "colab": {
          "base_uri": "https://localhost:8080/"
        }
      },
      "outputs": [
        {
          "output_type": "execute_result",
          "data": {
            "text/plain": [
              "HIGH      103\n",
              "NORMAL     97\n",
              "Name: Cholesterol, dtype: int64"
            ]
          },
          "metadata": {},
          "execution_count": 9
        }
      ],
      "source": [
        "df_drug.Cholesterol.value_counts()"
      ]
    },
    {
      "cell_type": "markdown",
      "id": "f69b4170",
      "metadata": {
        "papermill": {
          "duration": 0.058173,
          "end_time": "2022-05-04T02:53:17.870825",
          "exception": false,
          "start_time": "2022-05-04T02:53:17.812652",
          "status": "completed"
        },
        "tags": [],
        "id": "f69b4170"
      },
      "source": [
        "--> The distribution of cholesterol level is balanced."
      ]
    },
    {
      "cell_type": "markdown",
      "id": "e20fcf08",
      "metadata": {
        "id": "e20fcf08",
        "papermill": {
          "duration": 0.058361,
          "end_time": "2022-05-04T02:53:17.988171",
          "exception": false,
          "start_time": "2022-05-04T02:53:17.929810",
          "status": "completed"
        },
        "tags": []
      },
      "source": [
        "# Numerical Variables\n",
        "This section will show mean, count, std, min, max and others using describe function. The skewness value for each numerical variables will also shown in this section."
      ]
    },
    {
      "cell_type": "code",
      "execution_count": 10,
      "id": "842d6bb1",
      "metadata": {
        "execution": {
          "iopub.execute_input": "2022-05-04T02:53:18.112352Z",
          "iopub.status.busy": "2022-05-04T02:53:18.111629Z",
          "iopub.status.idle": "2022-05-04T02:53:18.129693Z",
          "shell.execute_reply": "2022-05-04T02:53:18.130304Z",
          "shell.execute_reply.started": "2022-03-08T01:25:03.593112Z"
        },
        "id": "842d6bb1",
        "outputId": "347e77e1-58aa-408f-b56c-123d35a16c94",
        "papermill": {
          "duration": 0.080455,
          "end_time": "2022-05-04T02:53:18.130484",
          "exception": false,
          "start_time": "2022-05-04T02:53:18.050029",
          "status": "completed"
        },
        "tags": [],
        "colab": {
          "base_uri": "https://localhost:8080/",
          "height": 300
        }
      },
      "outputs": [
        {
          "output_type": "execute_result",
          "data": {
            "text/plain": [
              "              Age     Na_to_K\n",
              "count  200.000000  200.000000\n",
              "mean    44.315000   16.084485\n",
              "std     16.544315    7.223956\n",
              "min     15.000000    6.269000\n",
              "25%     31.000000   10.445500\n",
              "50%     45.000000   13.936500\n",
              "75%     58.000000   19.380000\n",
              "max     74.000000   38.247000"
            ],
            "text/html": [
              "\n",
              "  <div id=\"df-7cd24224-4394-43ec-8039-6752f113fb49\">\n",
              "    <div class=\"colab-df-container\">\n",
              "      <div>\n",
              "<style scoped>\n",
              "    .dataframe tbody tr th:only-of-type {\n",
              "        vertical-align: middle;\n",
              "    }\n",
              "\n",
              "    .dataframe tbody tr th {\n",
              "        vertical-align: top;\n",
              "    }\n",
              "\n",
              "    .dataframe thead th {\n",
              "        text-align: right;\n",
              "    }\n",
              "</style>\n",
              "<table border=\"1\" class=\"dataframe\">\n",
              "  <thead>\n",
              "    <tr style=\"text-align: right;\">\n",
              "      <th></th>\n",
              "      <th>Age</th>\n",
              "      <th>Na_to_K</th>\n",
              "    </tr>\n",
              "  </thead>\n",
              "  <tbody>\n",
              "    <tr>\n",
              "      <th>count</th>\n",
              "      <td>200.000000</td>\n",
              "      <td>200.000000</td>\n",
              "    </tr>\n",
              "    <tr>\n",
              "      <th>mean</th>\n",
              "      <td>44.315000</td>\n",
              "      <td>16.084485</td>\n",
              "    </tr>\n",
              "    <tr>\n",
              "      <th>std</th>\n",
              "      <td>16.544315</td>\n",
              "      <td>7.223956</td>\n",
              "    </tr>\n",
              "    <tr>\n",
              "      <th>min</th>\n",
              "      <td>15.000000</td>\n",
              "      <td>6.269000</td>\n",
              "    </tr>\n",
              "    <tr>\n",
              "      <th>25%</th>\n",
              "      <td>31.000000</td>\n",
              "      <td>10.445500</td>\n",
              "    </tr>\n",
              "    <tr>\n",
              "      <th>50%</th>\n",
              "      <td>45.000000</td>\n",
              "      <td>13.936500</td>\n",
              "    </tr>\n",
              "    <tr>\n",
              "      <th>75%</th>\n",
              "      <td>58.000000</td>\n",
              "      <td>19.380000</td>\n",
              "    </tr>\n",
              "    <tr>\n",
              "      <th>max</th>\n",
              "      <td>74.000000</td>\n",
              "      <td>38.247000</td>\n",
              "    </tr>\n",
              "  </tbody>\n",
              "</table>\n",
              "</div>\n",
              "      <button class=\"colab-df-convert\" onclick=\"convertToInteractive('df-7cd24224-4394-43ec-8039-6752f113fb49')\"\n",
              "              title=\"Convert this dataframe to an interactive table.\"\n",
              "              style=\"display:none;\">\n",
              "        \n",
              "  <svg xmlns=\"http://www.w3.org/2000/svg\" height=\"24px\"viewBox=\"0 0 24 24\"\n",
              "       width=\"24px\">\n",
              "    <path d=\"M0 0h24v24H0V0z\" fill=\"none\"/>\n",
              "    <path d=\"M18.56 5.44l.94 2.06.94-2.06 2.06-.94-2.06-.94-.94-2.06-.94 2.06-2.06.94zm-11 1L8.5 8.5l.94-2.06 2.06-.94-2.06-.94L8.5 2.5l-.94 2.06-2.06.94zm10 10l.94 2.06.94-2.06 2.06-.94-2.06-.94-.94-2.06-.94 2.06-2.06.94z\"/><path d=\"M17.41 7.96l-1.37-1.37c-.4-.4-.92-.59-1.43-.59-.52 0-1.04.2-1.43.59L10.3 9.45l-7.72 7.72c-.78.78-.78 2.05 0 2.83L4 21.41c.39.39.9.59 1.41.59.51 0 1.02-.2 1.41-.59l7.78-7.78 2.81-2.81c.8-.78.8-2.07 0-2.86zM5.41 20L4 18.59l7.72-7.72 1.47 1.35L5.41 20z\"/>\n",
              "  </svg>\n",
              "      </button>\n",
              "      \n",
              "  <style>\n",
              "    .colab-df-container {\n",
              "      display:flex;\n",
              "      flex-wrap:wrap;\n",
              "      gap: 12px;\n",
              "    }\n",
              "\n",
              "    .colab-df-convert {\n",
              "      background-color: #E8F0FE;\n",
              "      border: none;\n",
              "      border-radius: 50%;\n",
              "      cursor: pointer;\n",
              "      display: none;\n",
              "      fill: #1967D2;\n",
              "      height: 32px;\n",
              "      padding: 0 0 0 0;\n",
              "      width: 32px;\n",
              "    }\n",
              "\n",
              "    .colab-df-convert:hover {\n",
              "      background-color: #E2EBFA;\n",
              "      box-shadow: 0px 1px 2px rgba(60, 64, 67, 0.3), 0px 1px 3px 1px rgba(60, 64, 67, 0.15);\n",
              "      fill: #174EA6;\n",
              "    }\n",
              "\n",
              "    [theme=dark] .colab-df-convert {\n",
              "      background-color: #3B4455;\n",
              "      fill: #D2E3FC;\n",
              "    }\n",
              "\n",
              "    [theme=dark] .colab-df-convert:hover {\n",
              "      background-color: #434B5C;\n",
              "      box-shadow: 0px 1px 3px 1px rgba(0, 0, 0, 0.15);\n",
              "      filter: drop-shadow(0px 1px 2px rgba(0, 0, 0, 0.3));\n",
              "      fill: #FFFFFF;\n",
              "    }\n",
              "  </style>\n",
              "\n",
              "      <script>\n",
              "        const buttonEl =\n",
              "          document.querySelector('#df-7cd24224-4394-43ec-8039-6752f113fb49 button.colab-df-convert');\n",
              "        buttonEl.style.display =\n",
              "          google.colab.kernel.accessAllowed ? 'block' : 'none';\n",
              "\n",
              "        async function convertToInteractive(key) {\n",
              "          const element = document.querySelector('#df-7cd24224-4394-43ec-8039-6752f113fb49');\n",
              "          const dataTable =\n",
              "            await google.colab.kernel.invokeFunction('convertToInteractive',\n",
              "                                                     [key], {});\n",
              "          if (!dataTable) return;\n",
              "\n",
              "          const docLinkHtml = 'Like what you see? Visit the ' +\n",
              "            '<a target=\"_blank\" href=https://colab.research.google.com/notebooks/data_table.ipynb>data table notebook</a>'\n",
              "            + ' to learn more about interactive tables.';\n",
              "          element.innerHTML = '';\n",
              "          dataTable['output_type'] = 'display_data';\n",
              "          await google.colab.output.renderOutput(dataTable, element);\n",
              "          const docLink = document.createElement('div');\n",
              "          docLink.innerHTML = docLinkHtml;\n",
              "          element.appendChild(docLink);\n",
              "        }\n",
              "      </script>\n",
              "    </div>\n",
              "  </div>\n",
              "  "
            ]
          },
          "metadata": {},
          "execution_count": 10
        }
      ],
      "source": [
        "df_drug.describe()"
      ]
    },
    {
      "cell_type": "code",
      "execution_count": 11,
      "id": "e268a9e1",
      "metadata": {
        "execution": {
          "iopub.execute_input": "2022-05-04T02:53:18.251488Z",
          "iopub.status.busy": "2022-05-04T02:53:18.250854Z",
          "iopub.status.idle": "2022-05-04T02:53:18.257055Z",
          "shell.execute_reply": "2022-05-04T02:53:18.256536Z",
          "shell.execute_reply.started": "2022-03-08T01:25:03.622219Z"
        },
        "id": "e268a9e1",
        "outputId": "e78d3fca-fcc6-4cfe-9f92-e7c627865ef0",
        "papermill": {
          "duration": 0.067738,
          "end_time": "2022-05-04T02:53:18.257199",
          "exception": false,
          "start_time": "2022-05-04T02:53:18.189461",
          "status": "completed"
        },
        "tags": [],
        "colab": {
          "base_uri": "https://localhost:8080/"
        }
      },
      "outputs": [
        {
          "output_type": "stream",
          "name": "stdout",
          "text": [
            "Age skewness:  0.03030835703000607\n"
          ]
        }
      ],
      "source": [
        "skewAge = df_drug.Age.skew(axis = 0, skipna = True)\n",
        "print('Age skewness: ', skewAge)"
      ]
    },
    {
      "cell_type": "code",
      "execution_count": 12,
      "id": "fd9c19cb",
      "metadata": {
        "execution": {
          "iopub.execute_input": "2022-05-04T02:53:18.382600Z",
          "iopub.status.busy": "2022-05-04T02:53:18.381856Z",
          "iopub.status.idle": "2022-05-04T02:53:18.384728Z",
          "shell.execute_reply": "2022-05-04T02:53:18.385264Z",
          "shell.execute_reply.started": "2022-03-08T01:25:03.630015Z"
        },
        "id": "fd9c19cb",
        "outputId": "b966fbe0-f0a2-4772-fad1-ab2e9c4c59b9",
        "papermill": {
          "duration": 0.068745,
          "end_time": "2022-05-04T02:53:18.385446",
          "exception": false,
          "start_time": "2022-05-04T02:53:18.316701",
          "status": "completed"
        },
        "tags": [],
        "colab": {
          "base_uri": "https://localhost:8080/"
        }
      },
      "outputs": [
        {
          "output_type": "stream",
          "name": "stdout",
          "text": [
            "Na to K skewness:  1.039341186028881\n"
          ]
        }
      ],
      "source": [
        "skewNatoK = df_drug.Na_to_K.skew(axis = 0, skipna = True)\n",
        "print('Na to K skewness: ', skewNatoK)"
      ]
    },
    {
      "cell_type": "code",
      "execution_count": 13,
      "id": "7ddf6a33",
      "metadata": {
        "execution": {
          "iopub.execute_input": "2022-05-04T02:53:18.508632Z",
          "iopub.status.busy": "2022-05-04T02:53:18.507903Z",
          "iopub.status.idle": "2022-05-04T02:53:18.803949Z",
          "shell.execute_reply": "2022-05-04T02:53:18.803421Z",
          "shell.execute_reply.started": "2022-03-08T01:25:03.649478Z"
        },
        "id": "7ddf6a33",
        "outputId": "fd060d8d-94fc-4d59-8c61-e82ea30ee307",
        "papermill": {
          "duration": 0.35869,
          "end_time": "2022-05-04T02:53:18.804107",
          "exception": false,
          "start_time": "2022-05-04T02:53:18.445417",
          "status": "completed"
        },
        "tags": [],
        "colab": {
          "base_uri": "https://localhost:8080/",
          "height": 640
        }
      },
      "outputs": [
        {
          "output_type": "stream",
          "name": "stderr",
          "text": [
            "<ipython-input-13-b63208141c63>:1: UserWarning: \n",
            "\n",
            "`distplot` is a deprecated function and will be removed in seaborn v0.14.0.\n",
            "\n",
            "Please adapt your code to use either `displot` (a figure-level function with\n",
            "similar flexibility) or `histplot` (an axes-level function for histograms).\n",
            "\n",
            "For a guide to updating your code to use the new functions, please see\n",
            "https://gist.github.com/mwaskom/de44147ed2974457ad6372750bbe5751\n",
            "\n",
            "  sns.distplot(df_drug['Age']);\n"
          ]
        },
        {
          "output_type": "display_data",
          "data": {
            "text/plain": [
              "<Figure size 640x480 with 1 Axes>"
            ],
            "image/png": "[encoded data removed]"
          },
          "metadata": {}
        }
      ],
      "source": [
        "sns.distplot(df_drug['Age']);"
      ]
    },
    {
      "cell_type": "code",
      "execution_count": 14,
      "id": "958118d2",
      "metadata": {
        "execution": {
          "iopub.execute_input": "2022-05-04T02:53:18.938872Z",
          "iopub.status.busy": "2022-05-04T02:53:18.937454Z",
          "iopub.status.idle": "2022-05-04T02:53:19.174592Z",
          "shell.execute_reply": "2022-05-04T02:53:19.174047Z",
          "shell.execute_reply.started": "2022-03-08T01:25:03.974898Z"
        },
        "id": "958118d2",
        "outputId": "2575d0ae-93f2-4a7d-e286-0feb6f8a9b41",
        "papermill": {
          "duration": 0.309413,
          "end_time": "2022-05-04T02:53:19.174740",
          "exception": false,
          "start_time": "2022-05-04T02:53:18.865327",
          "status": "completed"
        },
        "tags": [],
        "colab": {
          "base_uri": "https://localhost:8080/",
          "height": 640
        }
      },
      "outputs": [
        {
          "output_type": "stream",
          "name": "stderr",
          "text": [
            "<ipython-input-14-cbf3664b68d6>:1: UserWarning: \n",
            "\n",
            "`distplot` is a deprecated function and will be removed in seaborn v0.14.0.\n",
            "\n",
            "Please adapt your code to use either `displot` (a figure-level function with\n",
            "similar flexibility) or `histplot` (an axes-level function for histograms).\n",
            "\n",
            "For a guide to updating your code to use the new functions, please see\n",
            "https://gist.github.com/mwaskom/de44147ed2974457ad6372750bbe5751\n",
            "\n",
            "  sns.distplot(df_drug['Na_to_K']);\n"
          ]
        },
        {
          "output_type": "display_data",
          "data": {
            "text/plain": [
              "<Figure size 640x480 with 1 Axes>"
            ],
            "image/png": "[encoded data removed]"
          },
          "metadata": {}
        }
      ],
      "source": [
        "sns.distplot(df_drug['Na_to_K']);"
      ]
    },
    {
      "cell_type": "markdown",
      "id": "33299d3d",
      "metadata": {
        "id": "33299d3d",
        "papermill": {
          "duration": 0.061768,
          "end_time": "2022-05-04T02:53:19.298710",
          "exception": false,
          "start_time": "2022-05-04T02:53:19.236942",
          "status": "completed"
        },
        "tags": []
      },
      "source": [
        "--> The distribution of **'Age'** column is **symetric**, since the skewness value  between -0.5 and 0.5 <br>\n",
        "--> The distribution of **'Na_to_K'** column is **moderately skewed**, since the skewness value is ***between 0.5 and 1***. It can also be seen from the histogram for 'Na_to_K' column"
      ]
    },
    {
      "cell_type": "markdown",
      "id": "eebd8206",
      "metadata": {
        "id": "eebd8206",
        "papermill": {
          "duration": 0.062761,
          "end_time": "2022-05-04T02:53:19.423839",
          "exception": false,
          "start_time": "2022-05-04T02:53:19.361078",
          "status": "completed"
        },
        "tags": []
      },
      "source": [
        "# EDA\n",
        "--> This section will explore variables in the dataset using different various plots/charts."
      ]
    },
    {
      "cell_type": "markdown",
      "id": "60ab525d",
      "metadata": {
        "papermill": {
          "duration": 0.062967,
          "end_time": "2022-05-04T02:53:19.549496",
          "exception": false,
          "start_time": "2022-05-04T02:53:19.486529",
          "status": "completed"
        },
        "tags": [],
        "id": "60ab525d"
      },
      "source": [
        "## Drug Type Distribution"
      ]
    },
    {
      "cell_type": "code",
      "execution_count": 15,
      "id": "a01e63d1",
      "metadata": {
        "execution": {
          "iopub.execute_input": "2022-05-04T02:53:19.724918Z",
          "iopub.status.busy": "2022-05-04T02:53:19.716349Z",
          "iopub.status.idle": "2022-05-04T02:53:19.923759Z",
          "shell.execute_reply": "2022-05-04T02:53:19.923099Z",
          "shell.execute_reply.started": "2022-03-08T01:25:04.226881Z"
        },
        "id": "a01e63d1",
        "outputId": "9f18ff2a-09bd-4ad6-f122-ed7ee3cae611",
        "papermill": {
          "duration": 0.311857,
          "end_time": "2022-05-04T02:53:19.923903",
          "exception": false,
          "start_time": "2022-05-04T02:53:19.612046",
          "status": "completed"
        },
        "tags": [],
        "colab": {
          "base_uri": "https://localhost:8080/",
          "height": 458
        }
      },
      "outputs": [
        {
          "output_type": "display_data",
          "data": {
            "text/plain": [
              "<Figure size 640x480 with 1 Axes>"
            ],
            "image/png": "[encoded data removed]"
          },
          "metadata": {}
        }
      ],
      "source": [
        "sns.set_theme(style=\"darkgrid\")\n",
        "sns.countplot(y=\"Drug\", data=df_drug, palette=\"flare\")\n",
        "plt.ylabel('Drug Type')\n",
        "plt.xlabel('Total')\n",
        "plt.show()"
      ]
    },
    {
      "cell_type": "markdown",
      "id": "0cd51b83",
      "metadata": {
        "papermill": {
          "duration": 0.064585,
          "end_time": "2022-05-04T02:53:20.052131",
          "exception": false,
          "start_time": "2022-05-04T02:53:19.987546",
          "status": "completed"
        },
        "tags": [],
        "id": "0cd51b83"
      },
      "source": [
        "## Gender Distribution"
      ]
    },
    {
      "cell_type": "code",
      "execution_count": 16,
      "id": "9067bc0c",
      "metadata": {
        "execution": {
          "iopub.execute_input": "2022-05-04T02:53:20.189754Z",
          "iopub.status.busy": "2022-05-04T02:53:20.188702Z",
          "iopub.status.idle": "2022-05-04T02:53:20.366441Z",
          "shell.execute_reply": "2022-05-04T02:53:20.365536Z",
          "shell.execute_reply.started": "2022-03-08T01:25:04.472525Z"
        },
        "id": "9067bc0c",
        "outputId": "6953a6cc-e168-4585-99b1-c473528b5d35",
        "papermill": {
          "duration": 0.251468,
          "end_time": "2022-05-04T02:53:20.366595",
          "exception": false,
          "start_time": "2022-05-04T02:53:20.115127",
          "status": "completed"
        },
        "tags": [],
        "colab": {
          "base_uri": "https://localhost:8080/",
          "height": 458
        }
      },
      "outputs": [
        {
          "output_type": "display_data",
          "data": {
            "text/plain": [
              "<Figure size 640x480 with 1 Axes>"
            ],
            "image/png": "[encoded data removed]"
          },
          "metadata": {}
        }
      ],
      "source": [
        "sns.set_theme(style=\"darkgrid\")\n",
        "sns.countplot(x=\"Sex\", data=df_drug, palette=\"rocket\")\n",
        "plt.xlabel('Gender (F=Female, M=Male)')\n",
        "plt.ylabel('Total')\n",
        "plt.show()"
      ]
    },
    {
      "cell_type": "markdown",
      "id": "e27a6097",
      "metadata": {
        "papermill": {
          "duration": 0.063698,
          "end_time": "2022-05-04T02:53:20.493951",
          "exception": false,
          "start_time": "2022-05-04T02:53:20.430253",
          "status": "completed"
        },
        "tags": [],
        "id": "e27a6097"
      },
      "source": [
        "## Blood Pressure Distribution"
      ]
    },
    {
      "cell_type": "code",
      "execution_count": 17,
      "id": "e7df4e15",
      "metadata": {
        "execution": {
          "iopub.execute_input": "2022-05-04T02:53:20.626025Z",
          "iopub.status.busy": "2022-05-04T02:53:20.625073Z",
          "iopub.status.idle": "2022-05-04T02:53:20.872608Z",
          "shell.execute_reply": "2022-05-04T02:53:20.873112Z",
          "shell.execute_reply.started": "2022-03-08T01:25:04.605906Z"
        },
        "id": "e7df4e15",
        "outputId": "d0279582-91ee-4823-fc8a-6752a057892c",
        "papermill": {
          "duration": 0.315177,
          "end_time": "2022-05-04T02:53:20.873283",
          "exception": false,
          "start_time": "2022-05-04T02:53:20.558106",
          "status": "completed"
        },
        "tags": [],
        "colab": {
          "base_uri": "https://localhost:8080/",
          "height": 458
        }
      },
      "outputs": [
        {
          "output_type": "display_data",
          "data": {
            "text/plain": [
              "<Figure size 640x480 with 1 Axes>"
            ],
            "image/png": "[encoded data removed]"
          },
          "metadata": {}
        }
      ],
      "source": [
        "sns.set_theme(style=\"darkgrid\")\n",
        "sns.countplot(y=\"BP\", data=df_drug, palette=\"crest\")\n",
        "plt.ylabel('Blood Pressure')\n",
        "plt.xlabel('Total')\n",
        "plt.show()"
      ]
    },
    {
      "cell_type": "markdown",
      "id": "38cabf42",
      "metadata": {
        "papermill": {
          "duration": 0.065226,
          "end_time": "2022-05-04T02:53:21.002747",
          "exception": false,
          "start_time": "2022-05-04T02:53:20.937521",
          "status": "completed"
        },
        "tags": [],
        "id": "38cabf42"
      },
      "source": [
        "## Cholesterol Distribution"
      ]
    },
    {
      "cell_type": "code",
      "execution_count": 18,
      "id": "32c5340e",
      "metadata": {
        "execution": {
          "iopub.execute_input": "2022-05-04T02:53:21.155557Z",
          "iopub.status.busy": "2022-05-04T02:53:21.143532Z",
          "iopub.status.idle": "2022-05-04T02:53:21.322182Z",
          "shell.execute_reply": "2022-05-04T02:53:21.321627Z",
          "shell.execute_reply.started": "2022-03-08T01:25:04.880578Z"
        },
        "id": "32c5340e",
        "outputId": "d77fc8ab-c7af-4384-9fb5-da5a396feff0",
        "papermill": {
          "duration": 0.251628,
          "end_time": "2022-05-04T02:53:21.322329",
          "exception": false,
          "start_time": "2022-05-04T02:53:21.070701",
          "status": "completed"
        },
        "tags": [],
        "colab": {
          "base_uri": "https://localhost:8080/",
          "height": 458
        }
      },
      "outputs": [
        {
          "output_type": "display_data",
          "data": {
            "text/plain": [
              "<Figure size 640x480 with 1 Axes>"
            ],
            "image/png": "[encoded data removed]"
          },
          "metadata": {}
        }
      ],
      "source": [
        "sns.set_theme(style=\"darkgrid\")\n",
        "sns.countplot(x=\"Cholesterol\", data=df_drug, palette=\"magma\")\n",
        "plt.xlabel('Blood Pressure')\n",
        "plt.ylabel('Total')\n",
        "plt.show()"
      ]
    },
    {
      "cell_type": "markdown",
      "id": "ff352dc3",
      "metadata": {
        "papermill": {
          "duration": 0.065165,
          "end_time": "2022-05-04T02:53:21.453075",
          "exception": false,
          "start_time": "2022-05-04T02:53:21.387910",
          "status": "completed"
        },
        "tags": [],
        "id": "ff352dc3"
      },
      "source": [
        "## Gender Distribution based on Drug Type"
      ]
    },
    {
      "cell_type": "code",
      "execution_count": 19,
      "id": "87415cf4",
      "metadata": {
        "execution": {
          "iopub.execute_input": "2022-05-04T02:53:21.591812Z",
          "iopub.status.busy": "2022-05-04T02:53:21.591101Z",
          "iopub.status.idle": "2022-05-04T02:53:21.996703Z",
          "shell.execute_reply": "2022-05-04T02:53:21.996192Z",
          "shell.execute_reply.started": "2022-03-08T01:25:05.069947Z"
        },
        "id": "87415cf4",
        "outputId": "02741b28-5bfe-4693-9c18-d1d450043005",
        "papermill": {
          "duration": 0.47819,
          "end_time": "2022-05-04T02:53:21.996859",
          "exception": false,
          "start_time": "2022-05-04T02:53:21.518669",
          "status": "completed"
        },
        "tags": [],
        "colab": {
          "base_uri": "https://localhost:8080/",
          "height": 496
        }
      },
      "outputs": [
        {
          "output_type": "display_data",
          "data": {
            "text/plain": [
              "<Figure size 1200x500 with 1 Axes>"
            ],
            "image/png": "[encoded data removed]"
          },
          "metadata": {}
        }
      ],
      "source": [
        "pd.crosstab(df_drug.Sex,df_drug.Drug).plot(kind=\"bar\",figsize=(12,5),color=['#003f5c','#ffa600','#58508d','#bc5090','#ff6361'])\n",
        "plt.title('Gender distribution based on Drug type')\n",
        "plt.xlabel('Gender')\n",
        "plt.xticks(rotation=0)\n",
        "plt.ylabel('Frequency')\n",
        "plt.show()"
      ]
    },
    {
      "cell_type": "markdown",
      "id": "d8cb41b9",
      "metadata": {
        "papermill": {
          "duration": 0.06602,
          "end_time": "2022-05-04T02:53:22.130021",
          "exception": false,
          "start_time": "2022-05-04T02:53:22.064001",
          "status": "completed"
        },
        "tags": [],
        "id": "d8cb41b9"
      },
      "source": [
        "## Blood Pressure Distribution based on Cholesetrol"
      ]
    },
    {
      "cell_type": "code",
      "execution_count": 20,
      "id": "c8bc5489",
      "metadata": {
        "execution": {
          "iopub.execute_input": "2022-05-04T02:53:22.269081Z",
          "iopub.status.busy": "2022-05-04T02:53:22.268387Z",
          "iopub.status.idle": "2022-05-04T02:53:22.545829Z",
          "shell.execute_reply": "2022-05-04T02:53:22.546315Z",
          "shell.execute_reply.started": "2022-03-08T01:25:05.486231Z"
        },
        "id": "c8bc5489",
        "outputId": "1e9becc1-361b-4e36-c5e9-a7ba463d938c",
        "papermill": {
          "duration": 0.349573,
          "end_time": "2022-05-04T02:53:22.546494",
          "exception": false,
          "start_time": "2022-05-04T02:53:22.196921",
          "status": "completed"
        },
        "tags": [],
        "colab": {
          "base_uri": "https://localhost:8080/",
          "height": 573
        }
      },
      "outputs": [
        {
          "output_type": "display_data",
          "data": {
            "text/plain": [
              "<Figure size 1500x600 with 1 Axes>"
            ],
            "image/png": "[encoded data removed]"
          },
          "metadata": {}
        }
      ],
      "source": [
        "pd.crosstab(df_drug.BP,df_drug.Cholesterol).plot(kind=\"bar\",figsize=(15,6),color=['#6929c4','#1192e8'])\n",
        "plt.title('Blood Pressure distribution based on Cholesterol')\n",
        "plt.xlabel('Blood Pressure')\n",
        "plt.xticks(rotation=0)\n",
        "plt.ylabel('Frequency')\n",
        "plt.show()"
      ]
    },
    {
      "cell_type": "markdown",
      "id": "7675cc6e",
      "metadata": {
        "papermill": {
          "duration": 0.067148,
          "end_time": "2022-05-04T02:53:22.680625",
          "exception": false,
          "start_time": "2022-05-04T02:53:22.613477",
          "status": "completed"
        },
        "tags": [],
        "id": "7675cc6e"
      },
      "source": [
        "## Sodium to Potassium Distribution based on Gender and Age"
      ]
    },
    {
      "cell_type": "code",
      "execution_count": 21,
      "id": "9ed580f1",
      "metadata": {
        "execution": {
          "iopub.execute_input": "2022-05-04T02:53:22.861221Z",
          "iopub.status.busy": "2022-05-04T02:53:22.859970Z",
          "iopub.status.idle": "2022-05-04T02:53:23.200939Z",
          "shell.execute_reply": "2022-05-04T02:53:23.200359Z",
          "shell.execute_reply.started": "2022-03-08T01:25:05.776497Z"
        },
        "id": "9ed580f1",
        "outputId": "88dd6924-5b8c-41f2-f3cf-40625262f931",
        "papermill": {
          "duration": 0.441498,
          "end_time": "2022-05-04T02:53:23.201115",
          "exception": false,
          "start_time": "2022-05-04T02:53:22.759617",
          "status": "completed"
        },
        "tags": [],
        "colab": {
          "base_uri": "https://localhost:8080/",
          "height": 458
        }
      },
      "outputs": [
        {
          "output_type": "display_data",
          "data": {
            "text/plain": [
              "<Figure size 640x480 with 1 Axes>"
            ],
            "image/png": "[encoded data removed]"
          },
          "metadata": {}
        }
      ],
      "source": [
        "plt.scatter(x=df_drug.Age[df_drug.Sex=='F'], y=df_drug.Na_to_K[(df_drug.Sex=='F')], c=\"Blue\")\n",
        "plt.scatter(x=df_drug.Age[df_drug.Sex=='M'], y=df_drug.Na_to_K[(df_drug.Sex=='M')], c=\"Orange\")\n",
        "plt.legend([\"Female\", \"Male\"])\n",
        "plt.xlabel(\"Age\")\n",
        "plt.ylabel(\"Na_to_K\")\n",
        "plt.show()"
      ]
    },
    {
      "cell_type": "markdown",
      "id": "4a2073da",
      "metadata": {
        "id": "4a2073da",
        "papermill": {
          "duration": 0.072234,
          "end_time": "2022-05-04T02:53:23.346483",
          "exception": false,
          "start_time": "2022-05-04T02:53:23.274249",
          "status": "completed"
        },
        "tags": []
      },
      "source": [
        "# Dataset Preparation\n",
        "--> This section will prepare the dataset before building the machine learning models."
      ]
    },
    {
      "cell_type": "markdown",
      "id": "ea6668c3",
      "metadata": {
        "id": "ea6668c3",
        "papermill": {
          "duration": 0.069097,
          "end_time": "2022-05-04T02:53:23.486753",
          "exception": false,
          "start_time": "2022-05-04T02:53:23.417656",
          "status": "completed"
        },
        "tags": []
      },
      "source": [
        "##Data Binning"
      ]
    },
    {
      "cell_type": "markdown",
      "id": "dcaed989",
      "metadata": {
        "id": "dcaed989",
        "papermill": {
          "duration": 0.071107,
          "end_time": "2022-05-04T02:53:23.627940",
          "exception": false,
          "start_time": "2022-05-04T02:53:23.556833",
          "status": "completed"
        },
        "tags": []
      },
      "source": [
        "### Age\n",
        "--> The age will be divided into **7 age categories**:\n",
        "*  Below 20 y.o.\n",
        "*  20 - 29 y.o.\n",
        "*  30 - 39 y.o.\n",
        "*  40 - 49 y.o.\n",
        "*  50 - 59 y.o.\n",
        "*  60 - 69 y.o.\n",
        "*  Above 70."
      ]
    },
    {
      "cell_type": "code",
      "execution_count": 22,
      "id": "4b44dea1",
      "metadata": {
        "execution": {
          "iopub.execute_input": "2022-05-04T02:53:23.774584Z",
          "iopub.status.busy": "2022-05-04T02:53:23.767281Z",
          "iopub.status.idle": "2022-05-04T02:53:23.776406Z",
          "shell.execute_reply": "2022-05-04T02:53:23.776852Z",
          "shell.execute_reply.started": "2022-03-08T01:25:06.125239Z"
        },
        "id": "4b44dea1",
        "papermill": {
          "duration": 0.080917,
          "end_time": "2022-05-04T02:53:23.777051",
          "exception": false,
          "start_time": "2022-05-04T02:53:23.696134",
          "status": "completed"
        },
        "tags": []
      },
      "outputs": [],
      "source": [
        "bin_age = [0, 19, 29, 39, 49, 59, 69, 80]\n",
        "category_age = ['<20s', '20s', '30s', '40s', '50s', '60s', '>60s']\n",
        "df_drug['Age_binned'] = pd.cut(df_drug['Age'], bins=bin_age, labels=category_age)\n",
        "df_drug = df_drug.drop(['Age'], axis = 1)"
      ]
    },
    {
      "cell_type": "markdown",
      "id": "ed6970c9",
      "metadata": {
        "id": "ed6970c9",
        "papermill": {
          "duration": 0.069649,
          "end_time": "2022-05-04T02:53:23.915013",
          "exception": false,
          "start_time": "2022-05-04T02:53:23.845364",
          "status": "completed"
        },
        "tags": []
      },
      "source": [
        "### Na_to_K\n",
        "--> The chemical ratio will be divided into **4 categories**:\n",
        "*  Below 10.\n",
        "*  10 - 20.\n",
        "*  20 - 30.\n",
        "*  Above 30."
      ]
    },
    {
      "cell_type": "code",
      "execution_count": 23,
      "id": "fb471fb8",
      "metadata": {
        "execution": {
          "iopub.execute_input": "2022-05-04T02:53:24.064225Z",
          "iopub.status.busy": "2022-05-04T02:53:24.057040Z",
          "iopub.status.idle": "2022-05-04T02:53:24.066950Z",
          "shell.execute_reply": "2022-05-04T02:53:24.066286Z",
          "shell.execute_reply.started": "2022-03-08T01:25:06.13646Z"
        },
        "id": "fb471fb8",
        "papermill": {
          "duration": 0.082757,
          "end_time": "2022-05-04T02:53:24.067126",
          "exception": false,
          "start_time": "2022-05-04T02:53:23.984369",
          "status": "completed"
        },
        "tags": []
      },
      "outputs": [],
      "source": [
        "bin_NatoK = [0, 9, 19, 29, 50]\n",
        "category_NatoK = ['<10', '10-20', '20-30', '>30']\n",
        "df_drug['Na_to_K_binned'] = pd.cut(df_drug['Na_to_K'], bins=bin_NatoK, labels=category_NatoK)\n",
        "df_drug = df_drug.drop(['Na_to_K'], axis = 1)"
      ]
    },
    {
      "cell_type": "markdown",
      "id": "6acd0bc0",
      "metadata": {
        "id": "6acd0bc0",
        "papermill": {
          "duration": 0.068402,
          "end_time": "2022-05-04T02:53:24.204559",
          "exception": false,
          "start_time": "2022-05-04T02:53:24.136157",
          "status": "completed"
        },
        "tags": []
      },
      "source": [
        "## Splitting the dataset\n",
        "--> The dataset will be split into **70% training and 30% testing**."
      ]
    },
    {
      "cell_type": "code",
      "execution_count": 24,
      "id": "26cb08bb",
      "metadata": {
        "execution": {
          "iopub.execute_input": "2022-05-04T02:53:24.345430Z",
          "iopub.status.busy": "2022-05-04T02:53:24.344798Z",
          "iopub.status.idle": "2022-05-04T02:53:24.504186Z",
          "shell.execute_reply": "2022-05-04T02:53:24.503420Z",
          "shell.execute_reply.started": "2022-03-08T01:25:06.154675Z"
        },
        "id": "26cb08bb",
        "papermill": {
          "duration": 0.231244,
          "end_time": "2022-05-04T02:53:24.504359",
          "exception": false,
          "start_time": "2022-05-04T02:53:24.273115",
          "status": "completed"
        },
        "tags": []
      },
      "outputs": [],
      "source": [
        "from sklearn.metrics import confusion_matrix\n",
        "from sklearn.metrics import classification_report"
      ]
    },
    {
      "cell_type": "code",
      "execution_count": 25,
      "id": "c091b1b7",
      "metadata": {
        "execution": {
          "iopub.execute_input": "2022-05-04T02:53:24.647052Z",
          "iopub.status.busy": "2022-05-04T02:53:24.646375Z",
          "iopub.status.idle": "2022-05-04T02:53:24.667063Z",
          "shell.execute_reply": "2022-05-04T02:53:24.667556Z",
          "shell.execute_reply.started": "2022-03-08T01:25:06.328803Z"
        },
        "id": "c091b1b7",
        "papermill": {
          "duration": 0.095304,
          "end_time": "2022-05-04T02:53:24.667742",
          "exception": false,
          "start_time": "2022-05-04T02:53:24.572438",
          "status": "completed"
        },
        "tags": []
      },
      "outputs": [],
      "source": [
        "X = df_drug.drop([\"Drug\"], axis=1)\n",
        "y = df_drug[\"Drug\"]\n",
        "\n",
        "from sklearn.model_selection import train_test_split\n",
        "X_train, X_test, y_train, y_test = train_test_split(X, y, test_size = 0.3, random_state = 0)"
      ]
    },
    {
      "cell_type": "markdown",
      "id": "fa2f50fb",
      "metadata": {
        "id": "fa2f50fb",
        "papermill": {
          "duration": 0.071246,
          "end_time": "2022-05-04T02:53:24.809880",
          "exception": false,
          "start_time": "2022-05-04T02:53:24.738634",
          "status": "completed"
        },
        "tags": []
      },
      "source": [
        "## Feature Engineering\n",
        "--> The FE method that used is **one-hot encoding**, which is **transforming categorical variables into a form that could be provided to ML algorithms to do a better prediction**."
      ]
    },
    {
      "cell_type": "code",
      "execution_count": 26,
      "id": "009162ef",
      "metadata": {
        "execution": {
          "iopub.execute_input": "2022-05-04T02:53:24.953841Z",
          "iopub.status.busy": "2022-05-04T02:53:24.952857Z",
          "iopub.status.idle": "2022-05-04T02:53:24.968415Z",
          "shell.execute_reply": "2022-05-04T02:53:24.968934Z",
          "shell.execute_reply.started": "2022-03-08T01:25:06.355628Z"
        },
        "id": "009162ef",
        "papermill": {
          "duration": 0.089853,
          "end_time": "2022-05-04T02:53:24.969119",
          "exception": false,
          "start_time": "2022-05-04T02:53:24.879266",
          "status": "completed"
        },
        "tags": []
      },
      "outputs": [],
      "source": [
        "X_train = pd.get_dummies(X_train)\n",
        "X_test = pd.get_dummies(X_test)"
      ]
    },
    {
      "cell_type": "code",
      "execution_count": 27,
      "id": "bab5b853",
      "metadata": {
        "execution": {
          "iopub.execute_input": "2022-05-04T02:53:25.111357Z",
          "iopub.status.busy": "2022-05-04T02:53:25.110387Z",
          "iopub.status.idle": "2022-05-04T02:53:25.125401Z",
          "shell.execute_reply": "2022-05-04T02:53:25.125961Z",
          "shell.execute_reply.started": "2022-03-08T01:25:06.375644Z"
        },
        "papermill": {
          "duration": 0.088449,
          "end_time": "2022-05-04T02:53:25.126150",
          "exception": false,
          "start_time": "2022-05-04T02:53:25.037701",
          "status": "completed"
        },
        "tags": [],
        "colab": {
          "base_uri": "https://localhost:8080/",
          "height": 288
        },
        "id": "bab5b853",
        "outputId": "5751ee82-97d3-4971-c416-4ddd6f598385"
      },
      "outputs": [
        {
          "output_type": "execute_result",
          "data": {
            "text/plain": [
              "     Sex_F  Sex_M  BP_HIGH  BP_LOW  BP_NORMAL  Cholesterol_HIGH  \\\n",
              "131      0      1        0       1          0                 0   \n",
              "96       1      0        0       1          0                 1   \n",
              "181      1      0        0       0          1                 1   \n",
              "19       1      0        1       0          0                 0   \n",
              "153      1      0        0       1          0                 0   \n",
              "\n",
              "     Cholesterol_NORMAL  Age_binned_<20s  Age_binned_20s  Age_binned_30s  \\\n",
              "131                   1                0               0               0   \n",
              "96                    0                0               0               0   \n",
              "181                   0                0               0               0   \n",
              "19                    1                0               0               1   \n",
              "153                   1                0               0               0   \n",
              "\n",
              "     Age_binned_40s  Age_binned_50s  Age_binned_60s  Age_binned_>60s  \\\n",
              "131               0               1               0                0   \n",
              "96                0               1               0                0   \n",
              "181               0               1               0                0   \n",
              "19                0               0               0                0   \n",
              "153               0               0               0                1   \n",
              "\n",
              "     Na_to_K_binned_<10  Na_to_K_binned_10-20  Na_to_K_binned_20-30  \\\n",
              "131                   0                     0                     0   \n",
              "96                    0                     0                     0   \n",
              "181                   0                     1                     0   \n",
              "19                    0                     0                     1   \n",
              "153                   0                     1                     0   \n",
              "\n",
              "     Na_to_K_binned_>30  \n",
              "131                   1  \n",
              "96                    1  \n",
              "181                   0  \n",
              "19                    0  \n",
              "153                   0  "
            ],
            "text/html": [
              "\n",
              "  <div id=\"df-57c15a2e-2a0f-48b5-a0a3-53ccbe953519\">\n",
              "    <div class=\"colab-df-container\">\n",
              "      <div>\n",
              "<style scoped>\n",
              "    .dataframe tbody tr th:only-of-type {\n",
              "        vertical-align: middle;\n",
              "    }\n",
              "\n",
              "    .dataframe tbody tr th {\n",
              "        vertical-align: top;\n",
              "    }\n",
              "\n",
              "    .dataframe thead th {\n",
              "        text-align: right;\n",
              "    }\n",
              "</style>\n",
              "<table border=\"1\" class=\"dataframe\">\n",
              "  <thead>\n",
              "    <tr style=\"text-align: right;\">\n",
              "      <th></th>\n",
              "      <th>Sex_F</th>\n",
              "      <th>Sex_M</th>\n",
              "      <th>BP_HIGH</th>\n",
              "      <th>BP_LOW</th>\n",
              "      <th>BP_NORMAL</th>\n",
              "      <th>Cholesterol_HIGH</th>\n",
              "      <th>Cholesterol_NORMAL</th>\n",
              "      <th>Age_binned_&lt;20s</th>\n",
              "      <th>Age_binned_20s</th>\n",
              "      <th>Age_binned_30s</th>\n",
              "      <th>Age_binned_40s</th>\n",
              "      <th>Age_binned_50s</th>\n",
              "      <th>Age_binned_60s</th>\n",
              "      <th>Age_binned_&gt;60s</th>\n",
              "      <th>Na_to_K_binned_&lt;10</th>\n",
              "      <th>Na_to_K_binned_10-20</th>\n",
              "      <th>Na_to_K_binned_20-30</th>\n",
              "      <th>Na_to_K_binned_&gt;30</th>\n",
              "    </tr>\n",
              "  </thead>\n",
              "  <tbody>\n",
              "    <tr>\n",
              "      <th>131</th>\n",
              "      <td>0</td>\n",
              "      <td>1</td>\n",
              "      <td>0</td>\n",
              "      <td>1</td>\n",
              "      <td>0</td>\n",
              "      <td>0</td>\n",
              "      <td>1</td>\n",
              "      <td>0</td>\n",
              "      <td>0</td>\n",
              "      <td>0</td>\n",
              "      <td>0</td>\n",
              "      <td>1</td>\n",
              "      <td>0</td>\n",
              "      <td>0</td>\n",
              "      <td>0</td>\n",
              "      <td>0</td>\n",
              "      <td>0</td>\n",
              "      <td>1</td>\n",
              "    </tr>\n",
              "    <tr>\n",
              "      <th>96</th>\n",
              "      <td>1</td>\n",
              "      <td>0</td>\n",
              "      <td>0</td>\n",
              "      <td>1</td>\n",
              "      <td>0</td>\n",
              "      <td>1</td>\n",
              "      <td>0</td>\n",
              "      <td>0</td>\n",
              "      <td>0</td>\n",
              "      <td>0</td>\n",
              "      <td>0</td>\n",
              "      <td>1</td>\n",
              "      <td>0</td>\n",
              "      <td>0</td>\n",
              "      <td>0</td>\n",
              "      <td>0</td>\n",
              "      <td>0</td>\n",
              "      <td>1</td>\n",
              "    </tr>\n",
              "    <tr>\n",
              "      <th>181</th>\n",
              "      <td>1</td>\n",
              "      <td>0</td>\n",
              "      <td>0</td>\n",
              "      <td>0</td>\n",
              "      <td>1</td>\n",
              "      <td>1</td>\n",
              "      <td>0</td>\n",
              "      <td>0</td>\n",
              "      <td>0</td>\n",
              "      <td>0</td>\n",
              "      <td>0</td>\n",
              "      <td>1</td>\n",
              "      <td>0</td>\n",
              "      <td>0</td>\n",
              "      <td>0</td>\n",
              "      <td>1</td>\n",
              "      <td>0</td>\n",
              "      <td>0</td>\n",
              "    </tr>\n",
              "    <tr>\n",
              "      <th>19</th>\n",
              "      <td>1</td>\n",
              "      <td>0</td>\n",
              "      <td>1</td>\n",
              "      <td>0</td>\n",
              "      <td>0</td>\n",
              "      <td>0</td>\n",
              "      <td>1</td>\n",
              "      <td>0</td>\n",
              "      <td>0</td>\n",
              "      <td>1</td>\n",
              "      <td>0</td>\n",
              "      <td>0</td>\n",
              "      <td>0</td>\n",
              "      <td>0</td>\n",
              "      <td>0</td>\n",
              "      <td>0</td>\n",
              "      <td>1</td>\n",
              "      <td>0</td>\n",
              "    </tr>\n",
              "    <tr>\n",
              "      <th>153</th>\n",
              "      <td>1</td>\n",
              "      <td>0</td>\n",
              "      <td>0</td>\n",
              "      <td>1</td>\n",
              "      <td>0</td>\n",
              "      <td>0</td>\n",
              "      <td>1</td>\n",
              "      <td>0</td>\n",
              "      <td>0</td>\n",
              "      <td>0</td>\n",
              "      <td>0</td>\n",
              "      <td>0</td>\n",
              "      <td>0</td>\n",
              "      <td>1</td>\n",
              "      <td>0</td>\n",
              "      <td>1</td>\n",
              "      <td>0</td>\n",
              "      <td>0</td>\n",
              "    </tr>\n",
              "  </tbody>\n",
              "</table>\n",
              "</div>\n",
              "      <button class=\"colab-df-convert\" onclick=\"convertToInteractive('df-57c15a2e-2a0f-48b5-a0a3-53ccbe953519')\"\n",
              "              title=\"Convert this dataframe to an interactive table.\"\n",
              "              style=\"display:none;\">\n",
              "        \n",
              "  <svg xmlns=\"http://www.w3.org/2000/svg\" height=\"24px\"viewBox=\"0 0 24 24\"\n",
              "       width=\"24px\">\n",
              "    <path d=\"M0 0h24v24H0V0z\" fill=\"none\"/>\n",
              "    <path d=\"M18.56 5.44l.94 2.06.94-2.06 2.06-.94-2.06-.94-.94-2.06-.94 2.06-2.06.94zm-11 1L8.5 8.5l.94-2.06 2.06-.94-2.06-.94L8.5 2.5l-.94 2.06-2.06.94zm10 10l.94 2.06.94-2.06 2.06-.94-2.06-.94-.94-2.06-.94 2.06-2.06.94z\"/><path d=\"M17.41 7.96l-1.37-1.37c-.4-.4-.92-.59-1.43-.59-.52 0-1.04.2-1.43.59L10.3 9.45l-7.72 7.72c-.78.78-.78 2.05 0 2.83L4 21.41c.39.39.9.59 1.41.59.51 0 1.02-.2 1.41-.59l7.78-7.78 2.81-2.81c.8-.78.8-2.07 0-2.86zM5.41 20L4 18.59l7.72-7.72 1.47 1.35L5.41 20z\"/>\n",
              "  </svg>\n",
              "      </button>\n",
              "      \n",
              "  <style>\n",
              "    .colab-df-container {\n",
              "      display:flex;\n",
              "      flex-wrap:wrap;\n",
              "      gap: 12px;\n",
              "    }\n",
              "\n",
              "    .colab-df-convert {\n",
              "      background-color: #E8F0FE;\n",
              "      border: none;\n",
              "      border-radius: 50%;\n",
              "      cursor: pointer;\n",
              "      display: none;\n",
              "      fill: #1967D2;\n",
              "      height: 32px;\n",
              "      padding: 0 0 0 0;\n",
              "      width: 32px;\n",
              "    }\n",
              "\n",
              "    .colab-df-convert:hover {\n",
              "      background-color: #E2EBFA;\n",
              "      box-shadow: 0px 1px 2px rgba(60, 64, 67, 0.3), 0px 1px 3px 1px rgba(60, 64, 67, 0.15);\n",
              "      fill: #174EA6;\n",
              "    }\n",
              "\n",
              "    [theme=dark] .colab-df-convert {\n",
              "      background-color: #3B4455;\n",
              "      fill: #D2E3FC;\n",
              "    }\n",
              "\n",
              "    [theme=dark] .colab-df-convert:hover {\n",
              "      background-color: #434B5C;\n",
              "      box-shadow: 0px 1px 3px 1px rgba(0, 0, 0, 0.15);\n",
              "      filter: drop-shadow(0px 1px 2px rgba(0, 0, 0, 0.3));\n",
              "      fill: #FFFFFF;\n",
              "    }\n",
              "  </style>\n",
              "\n",
              "      <script>\n",
              "        const buttonEl =\n",
              "          document.querySelector('#df-57c15a2e-2a0f-48b5-a0a3-53ccbe953519 button.colab-df-convert');\n",
              "        buttonEl.style.display =\n",
              "          google.colab.kernel.accessAllowed ? 'block' : 'none';\n",
              "\n",
              "        async function convertToInteractive(key) {\n",
              "          const element = document.querySelector('#df-57c15a2e-2a0f-48b5-a0a3-53ccbe953519');\n",
              "          const dataTable =\n",
              "            await google.colab.kernel.invokeFunction('convertToInteractive',\n",
              "                                                     [key], {});\n",
              "          if (!dataTable) return;\n",
              "\n",
              "          const docLinkHtml = 'Like what you see? Visit the ' +\n",
              "            '<a target=\"_blank\" href=https://colab.research.google.com/notebooks/data_table.ipynb>data table notebook</a>'\n",
              "            + ' to learn more about interactive tables.';\n",
              "          element.innerHTML = '';\n",
              "          dataTable['output_type'] = 'display_data';\n",
              "          await google.colab.output.renderOutput(dataTable, element);\n",
              "          const docLink = document.createElement('div');\n",
              "          docLink.innerHTML = docLinkHtml;\n",
              "          element.appendChild(docLink);\n",
              "        }\n",
              "      </script>\n",
              "    </div>\n",
              "  </div>\n",
              "  "
            ]
          },
          "metadata": {},
          "execution_count": 27
        }
      ],
      "source": [
        "X_train.head()"
      ]
    },
    {
      "cell_type": "code",
      "execution_count": 28,
      "id": "90477859",
      "metadata": {
        "execution": {
          "iopub.execute_input": "2022-05-04T02:53:25.267751Z",
          "iopub.status.busy": "2022-05-04T02:53:25.266782Z",
          "iopub.status.idle": "2022-05-04T02:53:25.282213Z",
          "shell.execute_reply": "2022-05-04T02:53:25.281660Z",
          "shell.execute_reply.started": "2022-03-08T01:25:06.391737Z"
        },
        "papermill": {
          "duration": 0.08758,
          "end_time": "2022-05-04T02:53:25.282363",
          "exception": false,
          "start_time": "2022-05-04T02:53:25.194783",
          "status": "completed"
        },
        "tags": [],
        "colab": {
          "base_uri": "https://localhost:8080/",
          "height": 288
        },
        "id": "90477859",
        "outputId": "aff45e6c-174f-42ef-87d1-f9fac0970873"
      },
      "outputs": [
        {
          "output_type": "execute_result",
          "data": {
            "text/plain": [
              "     Sex_F  Sex_M  BP_HIGH  BP_LOW  BP_NORMAL  Cholesterol_HIGH  \\\n",
              "18       0      1        0       1          0                 1   \n",
              "170      1      0        0       0          1                 1   \n",
              "107      0      1        0       1          0                 1   \n",
              "98       0      1        1       0          0                 0   \n",
              "177      0      1        0       0          1                 1   \n",
              "\n",
              "     Cholesterol_NORMAL  Age_binned_<20s  Age_binned_20s  Age_binned_30s  \\\n",
              "18                    0                0               1               0   \n",
              "170                   0                0               1               0   \n",
              "107                   0                0               0               0   \n",
              "98                    1                0               1               0   \n",
              "177                   0                0               1               0   \n",
              "\n",
              "     Age_binned_40s  Age_binned_50s  Age_binned_60s  Age_binned_>60s  \\\n",
              "18                0               0               0                0   \n",
              "170               0               0               0                0   \n",
              "107               1               0               0                0   \n",
              "98                0               0               0                0   \n",
              "177               0               0               0                0   \n",
              "\n",
              "     Na_to_K_binned_<10  Na_to_K_binned_10-20  Na_to_K_binned_20-30  \\\n",
              "18                    1                     0                     0   \n",
              "170                   0                     1                     0   \n",
              "107                   0                     0                     1   \n",
              "98                    0                     0                     0   \n",
              "177                   0                     0                     1   \n",
              "\n",
              "     Na_to_K_binned_>30  \n",
              "18                    0  \n",
              "170                   0  \n",
              "107                   0  \n",
              "98                    1  \n",
              "177                   0  "
            ],
            "text/html": [
              "\n",
              "  <div id=\"df-70ead99a-9668-4758-a782-b2711c5e10ad\">\n",
              "    <div class=\"colab-df-container\">\n",
              "      <div>\n",
              "<style scoped>\n",
              "    .dataframe tbody tr th:only-of-type {\n",
              "        vertical-align: middle;\n",
              "    }\n",
              "\n",
              "    .dataframe tbody tr th {\n",
              "        vertical-align: top;\n",
              "    }\n",
              "\n",
              "    .dataframe thead th {\n",
              "        text-align: right;\n",
              "    }\n",
              "</style>\n",
              "<table border=\"1\" class=\"dataframe\">\n",
              "  <thead>\n",
              "    <tr style=\"text-align: right;\">\n",
              "      <th></th>\n",
              "      <th>Sex_F</th>\n",
              "      <th>Sex_M</th>\n",
              "      <th>BP_HIGH</th>\n",
              "      <th>BP_LOW</th>\n",
              "      <th>BP_NORMAL</th>\n",
              "      <th>Cholesterol_HIGH</th>\n",
              "      <th>Cholesterol_NORMAL</th>\n",
              "      <th>Age_binned_&lt;20s</th>\n",
              "      <th>Age_binned_20s</th>\n",
              "      <th>Age_binned_30s</th>\n",
              "      <th>Age_binned_40s</th>\n",
              "      <th>Age_binned_50s</th>\n",
              "      <th>Age_binned_60s</th>\n",
              "      <th>Age_binned_&gt;60s</th>\n",
              "      <th>Na_to_K_binned_&lt;10</th>\n",
              "      <th>Na_to_K_binned_10-20</th>\n",
              "      <th>Na_to_K_binned_20-30</th>\n",
              "      <th>Na_to_K_binned_&gt;30</th>\n",
              "    </tr>\n",
              "  </thead>\n",
              "  <tbody>\n",
              "    <tr>\n",
              "      <th>18</th>\n",
              "      <td>0</td>\n",
              "      <td>1</td>\n",
              "      <td>0</td>\n",
              "      <td>1</td>\n",
              "      <td>0</td>\n",
              "      <td>1</td>\n",
              "      <td>0</td>\n",
              "      <td>0</td>\n",
              "      <td>1</td>\n",
              "      <td>0</td>\n",
              "      <td>0</td>\n",
              "      <td>0</td>\n",
              "      <td>0</td>\n",
              "      <td>0</td>\n",
              "      <td>1</td>\n",
              "      <td>0</td>\n",
              "      <td>0</td>\n",
              "      <td>0</td>\n",
              "    </tr>\n",
              "    <tr>\n",
              "      <th>170</th>\n",
              "      <td>1</td>\n",
              "      <td>0</td>\n",
              "      <td>0</td>\n",
              "      <td>0</td>\n",
              "      <td>1</td>\n",
              "      <td>1</td>\n",
              "      <td>0</td>\n",
              "      <td>0</td>\n",
              "      <td>1</td>\n",
              "      <td>0</td>\n",
              "      <td>0</td>\n",
              "      <td>0</td>\n",
              "      <td>0</td>\n",
              "      <td>0</td>\n",
              "      <td>0</td>\n",
              "      <td>1</td>\n",
              "      <td>0</td>\n",
              "      <td>0</td>\n",
              "    </tr>\n",
              "    <tr>\n",
              "      <th>107</th>\n",
              "      <td>0</td>\n",
              "      <td>1</td>\n",
              "      <td>0</td>\n",
              "      <td>1</td>\n",
              "      <td>0</td>\n",
              "      <td>1</td>\n",
              "      <td>0</td>\n",
              "      <td>0</td>\n",
              "      <td>0</td>\n",
              "      <td>0</td>\n",
              "      <td>1</td>\n",
              "      <td>0</td>\n",
              "      <td>0</td>\n",
              "      <td>0</td>\n",
              "      <td>0</td>\n",
              "      <td>0</td>\n",
              "      <td>1</td>\n",
              "      <td>0</td>\n",
              "    </tr>\n",
              "    <tr>\n",
              "      <th>98</th>\n",
              "      <td>0</td>\n",
              "      <td>1</td>\n",
              "      <td>1</td>\n",
              "      <td>0</td>\n",
              "      <td>0</td>\n",
              "      <td>0</td>\n",
              "      <td>1</td>\n",
              "      <td>0</td>\n",
              "      <td>1</td>\n",
              "      <td>0</td>\n",
              "      <td>0</td>\n",
              "      <td>0</td>\n",
              "      <td>0</td>\n",
              "      <td>0</td>\n",
              "      <td>0</td>\n",
              "      <td>0</td>\n",
              "      <td>0</td>\n",
              "      <td>1</td>\n",
              "    </tr>\n",
              "    <tr>\n",
              "      <th>177</th>\n",
              "      <td>0</td>\n",
              "      <td>1</td>\n",
              "      <td>0</td>\n",
              "      <td>0</td>\n",
              "      <td>1</td>\n",
              "      <td>1</td>\n",
              "      <td>0</td>\n",
              "      <td>0</td>\n",
              "      <td>1</td>\n",
              "      <td>0</td>\n",
              "      <td>0</td>\n",
              "      <td>0</td>\n",
              "      <td>0</td>\n",
              "      <td>0</td>\n",
              "      <td>0</td>\n",
              "      <td>0</td>\n",
              "      <td>1</td>\n",
              "      <td>0</td>\n",
              "    </tr>\n",
              "  </tbody>\n",
              "</table>\n",
              "</div>\n",
              "      <button class=\"colab-df-convert\" onclick=\"convertToInteractive('df-70ead99a-9668-4758-a782-b2711c5e10ad')\"\n",
              "              title=\"Convert this dataframe to an interactive table.\"\n",
              "              style=\"display:none;\">\n",
              "        \n",
              "  <svg xmlns=\"http://www.w3.org/2000/svg\" height=\"24px\"viewBox=\"0 0 24 24\"\n",
              "       width=\"24px\">\n",
              "    <path d=\"M0 0h24v24H0V0z\" fill=\"none\"/>\n",
              "    <path d=\"M18.56 5.44l.94 2.06.94-2.06 2.06-.94-2.06-.94-.94-2.06-.94 2.06-2.06.94zm-11 1L8.5 8.5l.94-2.06 2.06-.94-2.06-.94L8.5 2.5l-.94 2.06-2.06.94zm10 10l.94 2.06.94-2.06 2.06-.94-2.06-.94-.94-2.06-.94 2.06-2.06.94z\"/><path d=\"M17.41 7.96l-1.37-1.37c-.4-.4-.92-.59-1.43-.59-.52 0-1.04.2-1.43.59L10.3 9.45l-7.72 7.72c-.78.78-.78 2.05 0 2.83L4 21.41c.39.39.9.59 1.41.59.51 0 1.02-.2 1.41-.59l7.78-7.78 2.81-2.81c.8-.78.8-2.07 0-2.86zM5.41 20L4 18.59l7.72-7.72 1.47 1.35L5.41 20z\"/>\n",
              "  </svg>\n",
              "      </button>\n",
              "      \n",
              "  <style>\n",
              "    .colab-df-container {\n",
              "      display:flex;\n",
              "      flex-wrap:wrap;\n",
              "      gap: 12px;\n",
              "    }\n",
              "\n",
              "    .colab-df-convert {\n",
              "      background-color: #E8F0FE;\n",
              "      border: none;\n",
              "      border-radius: 50%;\n",
              "      cursor: pointer;\n",
              "      display: none;\n",
              "      fill: #1967D2;\n",
              "      height: 32px;\n",
              "      padding: 0 0 0 0;\n",
              "      width: 32px;\n",
              "    }\n",
              "\n",
              "    .colab-df-convert:hover {\n",
              "      background-color: #E2EBFA;\n",
              "      box-shadow: 0px 1px 2px rgba(60, 64, 67, 0.3), 0px 1px 3px 1px rgba(60, 64, 67, 0.15);\n",
              "      fill: #174EA6;\n",
              "    }\n",
              "\n",
              "    [theme=dark] .colab-df-convert {\n",
              "      background-color: #3B4455;\n",
              "      fill: #D2E3FC;\n",
              "    }\n",
              "\n",
              "    [theme=dark] .colab-df-convert:hover {\n",
              "      background-color: #434B5C;\n",
              "      box-shadow: 0px 1px 3px 1px rgba(0, 0, 0, 0.15);\n",
              "      filter: drop-shadow(0px 1px 2px rgba(0, 0, 0, 0.3));\n",
              "      fill: #FFFFFF;\n",
              "    }\n",
              "  </style>\n",
              "\n",
              "      <script>\n",
              "        const buttonEl =\n",
              "          document.querySelector('#df-70ead99a-9668-4758-a782-b2711c5e10ad button.colab-df-convert');\n",
              "        buttonEl.style.display =\n",
              "          google.colab.kernel.accessAllowed ? 'block' : 'none';\n",
              "\n",
              "        async function convertToInteractive(key) {\n",
              "          const element = document.querySelector('#df-70ead99a-9668-4758-a782-b2711c5e10ad');\n",
              "          const dataTable =\n",
              "            await google.colab.kernel.invokeFunction('convertToInteractive',\n",
              "                                                     [key], {});\n",
              "          if (!dataTable) return;\n",
              "\n",
              "          const docLinkHtml = 'Like what you see? Visit the ' +\n",
              "            '<a target=\"_blank\" href=https://colab.research.google.com/notebooks/data_table.ipynb>data table notebook</a>'\n",
              "            + ' to learn more about interactive tables.';\n",
              "          element.innerHTML = '';\n",
              "          dataTable['output_type'] = 'display_data';\n",
              "          await google.colab.output.renderOutput(dataTable, element);\n",
              "          const docLink = document.createElement('div');\n",
              "          docLink.innerHTML = docLinkHtml;\n",
              "          element.appendChild(docLink);\n",
              "        }\n",
              "      </script>\n",
              "    </div>\n",
              "  </div>\n",
              "  "
            ]
          },
          "metadata": {},
          "execution_count": 28
        }
      ],
      "source": [
        "X_test.head()"
      ]
    },
    {
      "cell_type": "markdown",
      "id": "b6ce48bf",
      "metadata": {
        "id": "b6ce48bf",
        "papermill": {
          "duration": 0.070309,
          "end_time": "2022-05-04T02:53:25.424375",
          "exception": false,
          "start_time": "2022-05-04T02:53:25.354066",
          "status": "completed"
        },
        "tags": []
      },
      "source": [
        "## SMOTE Technique\n",
        "\n",
        "--> Since the number of 'DrugY' is more than other types of drugs, **oversampling is carried out to avoid overfitting**."
      ]
    },
    {
      "cell_type": "code",
      "execution_count": 29,
      "id": "ee2b71df",
      "metadata": {
        "execution": {
          "iopub.execute_input": "2022-05-04T02:53:25.569410Z",
          "iopub.status.busy": "2022-05-04T02:53:25.567504Z",
          "iopub.status.idle": "2022-05-04T02:53:25.895522Z",
          "shell.execute_reply": "2022-05-04T02:53:25.896100Z",
          "shell.execute_reply.started": "2022-03-08T01:25:06.420291Z"
        },
        "id": "ee2b71df",
        "papermill": {
          "duration": 0.402271,
          "end_time": "2022-05-04T02:53:25.896275",
          "exception": false,
          "start_time": "2022-05-04T02:53:25.494004",
          "status": "completed"
        },
        "tags": []
      },
      "outputs": [],
      "source": [
        "from imblearn.over_sampling import SMOTE\n",
        "X_train, y_train = SMOTE().fit_resample(X_train, y_train)"
      ]
    },
    {
      "cell_type": "code",
      "execution_count": 30,
      "id": "234d7561",
      "metadata": {
        "execution": {
          "iopub.execute_input": "2022-05-04T02:53:26.040017Z",
          "iopub.status.busy": "2022-05-04T02:53:26.039365Z",
          "iopub.status.idle": "2022-05-04T02:53:26.249515Z",
          "shell.execute_reply": "2022-05-04T02:53:26.250112Z",
          "shell.execute_reply.started": "2022-03-08T01:25:06.777236Z"
        },
        "id": "234d7561",
        "outputId": "04a1d4fa-57ad-40ec-beb7-dda20a50ae4b",
        "papermill": {
          "duration": 0.282954,
          "end_time": "2022-05-04T02:53:26.250298",
          "exception": false,
          "start_time": "2022-05-04T02:53:25.967344",
          "status": "completed"
        },
        "tags": [],
        "colab": {
          "base_uri": "https://localhost:8080/",
          "height": 458
        }
      },
      "outputs": [
        {
          "output_type": "display_data",
          "data": {
            "text/plain": [
              "<Figure size 640x480 with 1 Axes>"
            ],
            "image/png": "[encoded data removed]"
          },
          "metadata": {}
        }
      ],
      "source": [
        "sns.set_theme(style=\"darkgrid\")\n",
        "sns.countplot(y=y_train, data=df_drug, palette=\"mako_r\")\n",
        "plt.ylabel('Drug Type')\n",
        "plt.xlabel('Total')\n",
        "plt.show()"
      ]
    },
    {
      "cell_type": "markdown",
      "id": "7fe5d052",
      "metadata": {
        "papermill": {
          "duration": 0.080296,
          "end_time": "2022-05-04T02:53:26.414051",
          "exception": false,
          "start_time": "2022-05-04T02:53:26.333755",
          "status": "completed"
        },
        "tags": [],
        "id": "7fe5d052"
      },
      "source": [
        "--> As can be seen, the distrubtion of drug type are now balanced."
      ]
    },
    {
      "cell_type": "markdown",
      "id": "ea7c1b40",
      "metadata": {
        "id": "ea7c1b40",
        "papermill": {
          "duration": 0.070394,
          "end_time": "2022-05-04T02:53:26.556771",
          "exception": false,
          "start_time": "2022-05-04T02:53:26.486377",
          "status": "completed"
        },
        "tags": []
      },
      "source": [
        "# Models"
      ]
    },
    {
      "cell_type": "markdown",
      "id": "3534b4a5",
      "metadata": {
        "id": "3534b4a5",
        "papermill": {
          "duration": 0.069393,
          "end_time": "2022-05-04T02:53:26.696188",
          "exception": false,
          "start_time": "2022-05-04T02:53:26.626795",
          "status": "completed"
        },
        "tags": []
      },
      "source": [
        "## Logistic Regression"
      ]
    },
    {
      "cell_type": "code",
      "execution_count": 31,
      "id": "5890314b",
      "metadata": {
        "execution": {
          "iopub.execute_input": "2022-05-04T02:53:26.840093Z",
          "iopub.status.busy": "2022-05-04T02:53:26.839029Z",
          "iopub.status.idle": "2022-05-04T02:53:26.879340Z",
          "shell.execute_reply": "2022-05-04T02:53:26.878739Z",
          "shell.execute_reply.started": "2022-03-08T01:25:07.045415Z"
        },
        "id": "5890314b",
        "outputId": "ae6e92a8-ea99-4c7b-bfc6-68dcc3e523f6",
        "papermill": {
          "duration": 0.113548,
          "end_time": "2022-05-04T02:53:26.879483",
          "exception": false,
          "start_time": "2022-05-04T02:53:26.765935",
          "status": "completed"
        },
        "tags": [],
        "colab": {
          "base_uri": "https://localhost:8080/"
        }
      },
      "outputs": [
        {
          "output_type": "stream",
          "name": "stdout",
          "text": [
            "              precision    recall  f1-score   support\n",
            "\n",
            "       drugA       0.71      1.00      0.83         5\n",
            "       drugB       0.75      1.00      0.86         3\n",
            "       drugC       0.67      1.00      0.80         4\n",
            "       drugX       0.82      1.00      0.90        18\n",
            "       drugY       1.00      0.70      0.82        30\n",
            "\n",
            "    accuracy                           0.85        60\n",
            "   macro avg       0.79      0.94      0.84        60\n",
            "weighted avg       0.89      0.85      0.85        60\n",
            "\n",
            "[[ 5  0  0  0  0]\n",
            " [ 0  3  0  0  0]\n",
            " [ 0  0  4  0  0]\n",
            " [ 0  0  0 18  0]\n",
            " [ 2  1  2  4 21]]\n",
            "Logistic Regression accuracy is: 85.00%\n"
          ]
        }
      ],
      "source": [
        "from sklearn.linear_model import LogisticRegression\n",
        "LRclassifier = LogisticRegression(solver='liblinear', max_iter=5000)\n",
        "LRclassifier.fit(X_train, y_train)\n",
        "\n",
        "y_pred = LRclassifier.predict(X_test)\n",
        "\n",
        "print(classification_report(y_test, y_pred))\n",
        "print(confusion_matrix(y_test, y_pred))\n",
        "\n",
        "from sklearn.metrics import accuracy_score\n",
        "LRAcc = accuracy_score(y_pred,y_test)\n",
        "print('Logistic Regression accuracy is: {:.2f}%'.format(LRAcc*100))"
      ]
    },
    {
      "cell_type": "markdown",
      "id": "8f600436",
      "metadata": {
        "id": "8f600436",
        "papermill": {
          "duration": 0.069866,
          "end_time": "2022-05-04T02:53:27.019892",
          "exception": false,
          "start_time": "2022-05-04T02:53:26.950026",
          "status": "completed"
        },
        "tags": []
      },
      "source": [
        "## K Neighbours"
      ]
    },
    {
      "cell_type": "code",
      "execution_count": 32,
      "id": "fa800c6f",
      "metadata": {
        "execution": {
          "iopub.execute_input": "2022-05-04T02:53:27.172960Z",
          "iopub.status.busy": "2022-05-04T02:53:27.171889Z",
          "iopub.status.idle": "2022-05-04T02:53:27.185732Z",
          "shell.execute_reply": "2022-05-04T02:53:27.186241Z",
          "shell.execute_reply.started": "2022-03-08T01:25:07.093409Z"
        },
        "papermill": {
          "duration": 0.09542,
          "end_time": "2022-05-04T02:53:27.186418",
          "exception": false,
          "start_time": "2022-05-04T02:53:27.090998",
          "status": "completed"
        },
        "tags": [],
        "colab": {
          "base_uri": "https://localhost:8080/"
        },
        "id": "fa800c6f",
        "outputId": "4cb9bd0b-273b-46ea-ac9d-0733e04e582f"
      },
      "outputs": [
        {
          "output_type": "stream",
          "name": "stdout",
          "text": [
            "              precision    recall  f1-score   support\n",
            "\n",
            "       drugA       0.44      0.80      0.57         5\n",
            "       drugB       0.33      0.33      0.33         3\n",
            "       drugC       0.40      0.50      0.44         4\n",
            "       drugX       0.77      0.94      0.85        18\n",
            "       drugY       0.81      0.57      0.67        30\n",
            "\n",
            "    accuracy                           0.68        60\n",
            "   macro avg       0.55      0.63      0.57        60\n",
            "weighted avg       0.72      0.68      0.68        60\n",
            "\n",
            "[[ 4  1  0  0  0]\n",
            " [ 1  1  0  0  1]\n",
            " [ 0  0  2  0  2]\n",
            " [ 0  0  0 17  1]\n",
            " [ 4  1  3  5 17]]\n",
            "K Neighbours accuracy is: 68.33%\n"
          ]
        }
      ],
      "source": [
        "from sklearn.neighbors import KNeighborsClassifier\n",
        "KNclassifier = KNeighborsClassifier(n_neighbors=20)\n",
        "KNclassifier.fit(X_train, y_train)\n",
        "\n",
        "y_pred = KNclassifier.predict(X_test)\n",
        "\n",
        "print(classification_report(y_test, y_pred))\n",
        "print(confusion_matrix(y_test, y_pred))\n",
        "\n",
        "from sklearn.metrics import accuracy_score\n",
        "KNAcc = accuracy_score(y_pred,y_test)\n",
        "print('K Neighbours accuracy is: {:.2f}%'.format(KNAcc*100))"
      ]
    },
    {
      "cell_type": "code",
      "execution_count": 33,
      "id": "264505eb",
      "metadata": {
        "execution": {
          "iopub.execute_input": "2022-05-04T02:53:27.330216Z",
          "iopub.status.busy": "2022-05-04T02:53:27.329583Z",
          "iopub.status.idle": "2022-05-04T02:53:27.917687Z",
          "shell.execute_reply": "2022-05-04T02:53:27.918184Z",
          "shell.execute_reply.started": "2022-03-08T01:25:07.120338Z"
        },
        "papermill": {
          "duration": 0.661607,
          "end_time": "2022-05-04T02:53:27.918361",
          "exception": false,
          "start_time": "2022-05-04T02:53:27.256754",
          "status": "completed"
        },
        "tags": [],
        "colab": {
          "base_uri": "https://localhost:8080/",
          "height": 475
        },
        "id": "264505eb",
        "outputId": "50fad661-1a5f-45a0-c79d-1224067593d7"
      },
      "outputs": [
        {
          "output_type": "display_data",
          "data": {
            "text/plain": [
              "<Figure size 640x480 with 1 Axes>"
            ],
            "image/png": "[encoded data removed]"
          },
          "metadata": {}
        },
        {
          "output_type": "stream",
          "name": "stdout",
          "text": [
            "KNN Acc Max 76.67%\n"
          ]
        }
      ],
      "source": [
        "scoreListknn = []\n",
        "for i in range(1,30):\n",
        "    KNclassifier = KNeighborsClassifier(n_neighbors = i)\n",
        "    KNclassifier.fit(X_train, y_train)\n",
        "    scoreListknn.append(KNclassifier.score(X_test, y_test))\n",
        "    \n",
        "plt.plot(range(1,30), scoreListknn)\n",
        "plt.xticks(np.arange(1,30,1))\n",
        "plt.xlabel(\"K value\")\n",
        "plt.ylabel(\"Score\")\n",
        "plt.show()\n",
        "KNAccMax = max(scoreListknn)\n",
        "print(\"KNN Acc Max {:.2f}%\".format(KNAccMax*100))"
      ]
    },
    {
      "cell_type": "markdown",
      "id": "bacc2a6c",
      "metadata": {
        "id": "bacc2a6c",
        "papermill": {
          "duration": 0.072561,
          "end_time": "2022-05-04T02:53:28.063558",
          "exception": false,
          "start_time": "2022-05-04T02:53:27.990997",
          "status": "completed"
        },
        "tags": []
      },
      "source": [
        "## Support Vector Machine (SVM)"
      ]
    },
    {
      "cell_type": "code",
      "execution_count": 34,
      "id": "a35210b0",
      "metadata": {
        "execution": {
          "iopub.execute_input": "2022-05-04T02:53:28.212747Z",
          "iopub.status.busy": "2022-05-04T02:53:28.212102Z",
          "iopub.status.idle": "2022-05-04T02:53:28.240595Z",
          "shell.execute_reply": "2022-05-04T02:53:28.241221Z",
          "shell.execute_reply.started": "2022-03-08T01:25:07.761703Z"
        },
        "id": "a35210b0",
        "outputId": "aca71c0f-3f1d-4aa4-9fab-745eb03e8eb3",
        "papermill": {
          "duration": 0.105037,
          "end_time": "2022-05-04T02:53:28.241450",
          "exception": false,
          "start_time": "2022-05-04T02:53:28.136413",
          "status": "completed"
        },
        "tags": [],
        "colab": {
          "base_uri": "https://localhost:8080/"
        }
      },
      "outputs": [
        {
          "output_type": "stream",
          "name": "stdout",
          "text": [
            "              precision    recall  f1-score   support\n",
            "\n",
            "       drugA       0.71      1.00      0.83         5\n",
            "       drugB       0.75      1.00      0.86         3\n",
            "       drugC       0.67      1.00      0.80         4\n",
            "       drugX       0.82      1.00      0.90        18\n",
            "       drugY       1.00      0.70      0.82        30\n",
            "\n",
            "    accuracy                           0.85        60\n",
            "   macro avg       0.79      0.94      0.84        60\n",
            "weighted avg       0.89      0.85      0.85        60\n",
            "\n",
            "[[ 5  0  0  0  0]\n",
            " [ 0  3  0  0  0]\n",
            " [ 0  0  4  0  0]\n",
            " [ 0  0  0 18  0]\n",
            " [ 2  1  2  4 21]]\n",
            "SVC accuracy is: 85.00%\n"
          ]
        },
        {
          "output_type": "stream",
          "name": "stderr",
          "text": [
            "/usr/local/lib/python3.10/dist-packages/sklearn/svm/_base.py:299: ConvergenceWarning: Solver terminated early (max_iter=251).  Consider pre-processing your data with StandardScaler or MinMaxScaler.\n",
            "  warnings.warn(\n"
          ]
        }
      ],
      "source": [
        "from sklearn.svm import SVC\n",
        "SVCclassifier = SVC(kernel='linear', max_iter=251)\n",
        "SVCclassifier.fit(X_train, y_train)\n",
        "\n",
        "y_pred = SVCclassifier.predict(X_test)\n",
        "\n",
        "print(classification_report(y_test, y_pred))\n",
        "print(confusion_matrix(y_test, y_pred))\n",
        "\n",
        "from sklearn.metrics import accuracy_score\n",
        "SVCAcc = accuracy_score(y_pred,y_test)\n",
        "print('SVC accuracy is: {:.2f}%'.format(SVCAcc*100))"
      ]
    },
    {
      "cell_type": "markdown",
      "id": "a27cd9d8",
      "metadata": {
        "id": "a27cd9d8",
        "papermill": {
          "duration": 0.073019,
          "end_time": "2022-05-04T02:53:28.387869",
          "exception": false,
          "start_time": "2022-05-04T02:53:28.314850",
          "status": "completed"
        },
        "tags": []
      },
      "source": [
        "## Naive Bayes\n",
        "### Categorical NB"
      ]
    },
    {
      "cell_type": "code",
      "execution_count": 35,
      "id": "ab3260b1",
      "metadata": {
        "execution": {
          "iopub.execute_input": "2022-05-04T02:53:28.540752Z",
          "iopub.status.busy": "2022-05-04T02:53:28.540046Z",
          "iopub.status.idle": "2022-05-04T02:53:28.561912Z",
          "shell.execute_reply": "2022-05-04T02:53:28.562385Z",
          "shell.execute_reply.started": "2022-03-08T01:25:07.792769Z"
        },
        "id": "ab3260b1",
        "outputId": "9cd9275b-dc3d-4f2b-833e-a9f9089aec47",
        "papermill": {
          "duration": 0.101352,
          "end_time": "2022-05-04T02:53:28.562556",
          "exception": false,
          "start_time": "2022-05-04T02:53:28.461204",
          "status": "completed"
        },
        "tags": [],
        "colab": {
          "base_uri": "https://localhost:8080/"
        }
      },
      "outputs": [
        {
          "output_type": "stream",
          "name": "stdout",
          "text": [
            "              precision    recall  f1-score   support\n",
            "\n",
            "       drugA       0.62      1.00      0.77         5\n",
            "       drugB       0.75      1.00      0.86         3\n",
            "       drugC       0.50      0.50      0.50         4\n",
            "       drugX       0.75      1.00      0.86        18\n",
            "       drugY       1.00      0.67      0.80        30\n",
            "\n",
            "    accuracy                           0.80        60\n",
            "   macro avg       0.72      0.83      0.76        60\n",
            "weighted avg       0.85      0.80      0.80        60\n",
            "\n",
            "[[ 5  0  0  0  0]\n",
            " [ 0  3  0  0  0]\n",
            " [ 0  0  2  2  0]\n",
            " [ 0  0  0 18  0]\n",
            " [ 3  1  2  4 20]]\n",
            "Naive Bayes accuracy is: 80.00%\n"
          ]
        }
      ],
      "source": [
        "from sklearn.naive_bayes import CategoricalNB\n",
        "NBclassifier1 = CategoricalNB()\n",
        "NBclassifier1.fit(X_train, y_train)\n",
        "\n",
        "y_pred = NBclassifier1.predict(X_test)\n",
        "\n",
        "print(classification_report(y_test, y_pred))\n",
        "print(confusion_matrix(y_test, y_pred))\n",
        "\n",
        "from sklearn.metrics import accuracy_score\n",
        "NBAcc1 = accuracy_score(y_pred,y_test)\n",
        "print('Naive Bayes accuracy is: {:.2f}%'.format(NBAcc1*100))"
      ]
    },
    {
      "cell_type": "markdown",
      "id": "33c1c96d",
      "metadata": {
        "papermill": {
          "duration": 0.073293,
          "end_time": "2022-05-04T02:53:28.708846",
          "exception": false,
          "start_time": "2022-05-04T02:53:28.635553",
          "status": "completed"
        },
        "tags": [],
        "id": "33c1c96d"
      },
      "source": [
        "### Gaussian NB"
      ]
    },
    {
      "cell_type": "code",
      "execution_count": 36,
      "id": "66059076",
      "metadata": {
        "execution": {
          "iopub.execute_input": "2022-05-04T02:53:28.868462Z",
          "iopub.status.busy": "2022-05-04T02:53:28.867418Z",
          "iopub.status.idle": "2022-05-04T02:53:28.881235Z",
          "shell.execute_reply": "2022-05-04T02:53:28.881681Z",
          "shell.execute_reply.started": "2022-03-08T01:25:07.821073Z"
        },
        "papermill": {
          "duration": 0.096459,
          "end_time": "2022-05-04T02:53:28.881873",
          "exception": false,
          "start_time": "2022-05-04T02:53:28.785414",
          "status": "completed"
        },
        "tags": [],
        "colab": {
          "base_uri": "https://localhost:8080/"
        },
        "id": "66059076",
        "outputId": "3d4aa63f-8026-40af-9b8d-368bc7ead972"
      },
      "outputs": [
        {
          "output_type": "stream",
          "name": "stdout",
          "text": [
            "              precision    recall  f1-score   support\n",
            "\n",
            "       drugA       1.00      0.20      0.33         5\n",
            "       drugB       0.75      1.00      0.86         3\n",
            "       drugC       1.00      0.50      0.67         4\n",
            "       drugX       1.00      0.39      0.56        18\n",
            "       drugY       0.63      0.97      0.76        30\n",
            "\n",
            "    accuracy                           0.70        60\n",
            "   macro avg       0.88      0.61      0.64        60\n",
            "weighted avg       0.80      0.70      0.66        60\n",
            "\n",
            "[[ 1  0  0  0  4]\n",
            " [ 0  3  0  0  0]\n",
            " [ 0  0  2  0  2]\n",
            " [ 0  0  0  7 11]\n",
            " [ 0  1  0  0 29]]\n",
            "Gaussian Naive Bayes accuracy is: 70.00%\n"
          ]
        }
      ],
      "source": [
        "from sklearn.naive_bayes import GaussianNB\n",
        "NBclassifier2 = GaussianNB()\n",
        "NBclassifier2.fit(X_train, y_train)\n",
        "\n",
        "y_pred = NBclassifier2.predict(X_test)\n",
        "\n",
        "print(classification_report(y_test, y_pred))\n",
        "print(confusion_matrix(y_test, y_pred))\n",
        "\n",
        "from sklearn.metrics import accuracy_score\n",
        "NBAcc2 = accuracy_score(y_pred,y_test)\n",
        "print('Gaussian Naive Bayes accuracy is: {:.2f}%'.format(NBAcc2*100))"
      ]
    },
    {
      "cell_type": "markdown",
      "id": "145b2404",
      "metadata": {
        "id": "145b2404",
        "papermill": {
          "duration": 0.074099,
          "end_time": "2022-05-04T02:53:29.029910",
          "exception": false,
          "start_time": "2022-05-04T02:53:28.955811",
          "status": "completed"
        },
        "tags": []
      },
      "source": [
        "## Decision Tree"
      ]
    },
    {
      "cell_type": "code",
      "execution_count": 37,
      "id": "e7fea0de",
      "metadata": {
        "execution": {
          "iopub.execute_input": "2022-05-04T02:53:29.183748Z",
          "iopub.status.busy": "2022-05-04T02:53:29.183051Z",
          "iopub.status.idle": "2022-05-04T02:53:29.200342Z",
          "shell.execute_reply": "2022-05-04T02:53:29.200852Z",
          "shell.execute_reply.started": "2022-03-08T01:25:07.843802Z"
        },
        "id": "e7fea0de",
        "outputId": "82b06f19-1000-4f2d-c4e9-69c57d304a32",
        "papermill": {
          "duration": 0.096105,
          "end_time": "2022-05-04T02:53:29.201046",
          "exception": false,
          "start_time": "2022-05-04T02:53:29.104941",
          "status": "completed"
        },
        "tags": [],
        "colab": {
          "base_uri": "https://localhost:8080/"
        }
      },
      "outputs": [
        {
          "output_type": "stream",
          "name": "stdout",
          "text": [
            "              precision    recall  f1-score   support\n",
            "\n",
            "       drugA       0.62      1.00      0.77         5\n",
            "       drugB       0.75      1.00      0.86         3\n",
            "       drugC       0.67      1.00      0.80         4\n",
            "       drugX       0.82      1.00      0.90        18\n",
            "       drugY       1.00      0.67      0.80        30\n",
            "\n",
            "    accuracy                           0.83        60\n",
            "   macro avg       0.77      0.93      0.83        60\n",
            "weighted avg       0.88      0.83      0.83        60\n",
            "\n",
            "[[ 5  0  0  0  0]\n",
            " [ 0  3  0  0  0]\n",
            " [ 0  0  4  0  0]\n",
            " [ 0  0  0 18  0]\n",
            " [ 3  1  2  4 20]]\n",
            "Decision Tree accuracy is: 83.33%\n"
          ]
        }
      ],
      "source": [
        "from sklearn.tree import DecisionTreeClassifier\n",
        "DTclassifier = DecisionTreeClassifier(max_leaf_nodes=20)\n",
        "DTclassifier.fit(X_train, y_train)\n",
        "\n",
        "y_pred = DTclassifier.predict(X_test)\n",
        "\n",
        "print(classification_report(y_test, y_pred))\n",
        "print(confusion_matrix(y_test, y_pred))\n",
        "\n",
        "from sklearn.metrics import accuracy_score\n",
        "DTAcc = accuracy_score(y_pred,y_test)\n",
        "print('Decision Tree accuracy is: {:.2f}%'.format(DTAcc*100))"
      ]
    },
    {
      "cell_type": "code",
      "execution_count": 38,
      "id": "955268b8",
      "metadata": {
        "execution": {
          "iopub.execute_input": "2022-05-04T02:53:29.353120Z",
          "iopub.status.busy": "2022-05-04T02:53:29.352416Z",
          "iopub.status.idle": "2022-05-04T02:53:29.748469Z",
          "shell.execute_reply": "2022-05-04T02:53:29.749009Z",
          "shell.execute_reply.started": "2022-03-08T01:25:07.865647Z"
        },
        "papermill": {
          "duration": 0.473827,
          "end_time": "2022-05-04T02:53:29.749197",
          "exception": false,
          "start_time": "2022-05-04T02:53:29.275370",
          "status": "completed"
        },
        "tags": [],
        "colab": {
          "base_uri": "https://localhost:8080/",
          "height": 475
        },
        "id": "955268b8",
        "outputId": "0236f819-bfac-40d1-e573-9fcbeb5a8265"
      },
      "outputs": [
        {
          "output_type": "display_data",
          "data": {
            "text/plain": [
              "<Figure size 640x480 with 1 Axes>"
            ],
            "image/png": "[encoded data removed]"
          },
          "metadata": {}
        },
        {
          "output_type": "stream",
          "name": "stdout",
          "text": [
            "DT Acc Max 85.00%\n"
          ]
        }
      ],
      "source": [
        "scoreListDT = []\n",
        "for i in range(2,50):\n",
        "    DTclassifier = DecisionTreeClassifier(max_leaf_nodes=i)\n",
        "    DTclassifier.fit(X_train, y_train)\n",
        "    scoreListDT.append(DTclassifier.score(X_test, y_test))\n",
        "    \n",
        "plt.plot(range(2,50), scoreListDT)\n",
        "plt.xticks(np.arange(2,50,5))\n",
        "plt.xlabel(\"Leaf\")\n",
        "plt.ylabel(\"Score\")\n",
        "plt.show()\n",
        "DTAccMax = max(scoreListDT)\n",
        "print(\"DT Acc Max {:.2f}%\".format(DTAccMax*100))"
      ]
    },
    {
      "cell_type": "markdown",
      "id": "c04585d9",
      "metadata": {
        "id": "c04585d9",
        "papermill": {
          "duration": 0.077205,
          "end_time": "2022-05-04T02:53:29.902754",
          "exception": false,
          "start_time": "2022-05-04T02:53:29.825549",
          "status": "completed"
        },
        "tags": []
      },
      "source": [
        "## Random Forest"
      ]
    },
    {
      "cell_type": "code",
      "execution_count": 39,
      "id": "38dba457",
      "metadata": {
        "execution": {
          "iopub.execute_input": "2022-05-04T02:53:30.060629Z",
          "iopub.status.busy": "2022-05-04T02:53:30.059654Z",
          "iopub.status.idle": "2022-05-04T02:53:30.279329Z",
          "shell.execute_reply": "2022-05-04T02:53:30.278778Z",
          "shell.execute_reply.started": "2022-03-08T01:25:08.31948Z"
        },
        "id": "38dba457",
        "outputId": "1faa21ea-7af4-4c32-b7b7-219a2e3e1c28",
        "papermill": {
          "duration": 0.299608,
          "end_time": "2022-05-04T02:53:30.279477",
          "exception": false,
          "start_time": "2022-05-04T02:53:29.979869",
          "status": "completed"
        },
        "tags": [],
        "colab": {
          "base_uri": "https://localhost:8080/"
        }
      },
      "outputs": [
        {
          "output_type": "stream",
          "name": "stdout",
          "text": [
            "              precision    recall  f1-score   support\n",
            "\n",
            "       drugA       0.62      1.00      0.77         5\n",
            "       drugB       0.75      1.00      0.86         3\n",
            "       drugC       0.67      1.00      0.80         4\n",
            "       drugX       0.82      1.00      0.90        18\n",
            "       drugY       1.00      0.67      0.80        30\n",
            "\n",
            "    accuracy                           0.83        60\n",
            "   macro avg       0.77      0.93      0.83        60\n",
            "weighted avg       0.88      0.83      0.83        60\n",
            "\n",
            "[[ 5  0  0  0  0]\n",
            " [ 0  3  0  0  0]\n",
            " [ 0  0  4  0  0]\n",
            " [ 0  0  0 18  0]\n",
            " [ 3  1  2  4 20]]\n",
            "Random Forest accuracy is: 83.33%\n"
          ]
        }
      ],
      "source": [
        "from sklearn.ensemble import RandomForestClassifier\n",
        "\n",
        "RFclassifier = RandomForestClassifier(max_leaf_nodes=30)\n",
        "RFclassifier.fit(X_train, y_train)\n",
        "\n",
        "y_pred = RFclassifier.predict(X_test)\n",
        "\n",
        "print(classification_report(y_test, y_pred))\n",
        "print(confusion_matrix(y_test, y_pred))\n",
        "\n",
        "from sklearn.metrics import accuracy_score\n",
        "RFAcc = accuracy_score(y_pred,y_test)\n",
        "print('Random Forest accuracy is: {:.2f}%'.format(RFAcc*100))"
      ]
    },
    {
      "cell_type": "code",
      "execution_count": 40,
      "id": "c5c94795",
      "metadata": {
        "execution": {
          "iopub.execute_input": "2022-05-04T02:53:30.438305Z",
          "iopub.status.busy": "2022-05-04T02:53:30.437334Z",
          "iopub.status.idle": "2022-05-04T02:55:06.670664Z",
          "shell.execute_reply": "2022-05-04T02:55:06.670052Z",
          "shell.execute_reply.started": "2022-03-08T01:25:08.544304Z"
        },
        "papermill": {
          "duration": 96.313733,
          "end_time": "2022-05-04T02:55:06.670819",
          "exception": false,
          "start_time": "2022-05-04T02:53:30.357086",
          "status": "completed"
        },
        "tags": [],
        "colab": {
          "base_uri": "https://localhost:8080/",
          "height": 475
        },
        "id": "c5c94795",
        "outputId": "9ec142bc-b4ee-4a13-c4e5-3a0232aaf9b8"
      },
      "outputs": [
        {
          "output_type": "display_data",
          "data": {
            "text/plain": [
              "<Figure size 640x480 with 1 Axes>"
            ],
            "image/png": "[encoded data removed]"
          },
          "metadata": {}
        },
        {
          "output_type": "stream",
          "name": "stdout",
          "text": [
            "RF Acc Max 85.00%\n"
          ]
        }
      ],
      "source": [
        "scoreListRF = []\n",
        "for i in range(2,50):\n",
        "    RFclassifier = RandomForestClassifier(n_estimators = 1000, random_state = 1, max_leaf_nodes=i)\n",
        "    RFclassifier.fit(X_train, y_train)\n",
        "    scoreListRF.append(RFclassifier.score(X_test, y_test))\n",
        "    \n",
        "plt.plot(range(2,50), scoreListRF)\n",
        "plt.xticks(np.arange(2,50,5))\n",
        "plt.xlabel(\"RF Value\")\n",
        "plt.ylabel(\"Score\")\n",
        "plt.show()\n",
        "RFAccMax = max(scoreListRF)\n",
        "print(\"RF Acc Max {:.2f}%\".format(RFAccMax*100))"
      ]
    },
    {
      "cell_type": "markdown",
      "id": "7512e97d",
      "metadata": {
        "id": "7512e97d",
        "papermill": {
          "duration": 0.140707,
          "end_time": "2022-05-04T02:55:06.897435",
          "exception": false,
          "start_time": "2022-05-04T02:55:06.756728",
          "status": "completed"
        },
        "tags": []
      },
      "source": [
        "# Model Comparison"
      ]
    },
    {
      "cell_type": "code",
      "execution_count": 41,
      "id": "c1626d42",
      "metadata": {
        "execution": {
          "iopub.execute_input": "2022-05-04T02:55:07.072768Z",
          "iopub.status.busy": "2022-05-04T02:55:07.072025Z",
          "iopub.status.idle": "2022-05-04T02:55:07.081835Z",
          "shell.execute_reply": "2022-05-04T02:55:07.082479Z",
          "shell.execute_reply.started": "2022-03-08T01:26:43.760138Z"
        },
        "id": "c1626d42",
        "outputId": "be8a3f50-cd33-4882-966c-d3553592a759",
        "papermill": {
          "duration": 0.10087,
          "end_time": "2022-05-04T02:55:07.082694",
          "exception": false,
          "start_time": "2022-05-04T02:55:06.981824",
          "status": "completed"
        },
        "tags": [],
        "colab": {
          "base_uri": "https://localhost:8080/",
          "height": 363
        }
      },
      "outputs": [
        {
          "output_type": "execute_result",
          "data": {
            "text/plain": [
              "                 Model   Accuracy\n",
              "0  Logistic Regression  85.000000\n",
              "3                  SVM  85.000000\n",
              "7    Decision Tree Max  85.000000\n",
              "9    Random Forest Max  85.000000\n",
              "6        Decision Tree  83.333333\n",
              "8        Random Forest  83.333333\n",
              "4       Categorical NB  80.000000\n",
              "2      K Neighbors Max  76.666667\n",
              "5          Gaussian NB  70.000000\n",
              "1          K Neighbors  68.333333"
            ],
            "text/html": [
              "\n",
              "  <div id=\"df-761821ac-f32e-42d1-9c0d-a48470085a82\">\n",
              "    <div class=\"colab-df-container\">\n",
              "      <div>\n",
              "<style scoped>\n",
              "    .dataframe tbody tr th:only-of-type {\n",
              "        vertical-align: middle;\n",
              "    }\n",
              "\n",
              "    .dataframe tbody tr th {\n",
              "        vertical-align: top;\n",
              "    }\n",
              "\n",
              "    .dataframe thead th {\n",
              "        text-align: right;\n",
              "    }\n",
              "</style>\n",
              "<table border=\"1\" class=\"dataframe\">\n",
              "  <thead>\n",
              "    <tr style=\"text-align: right;\">\n",
              "      <th></th>\n",
              "      <th>Model</th>\n",
              "      <th>Accuracy</th>\n",
              "    </tr>\n",
              "  </thead>\n",
              "  <tbody>\n",
              "    <tr>\n",
              "      <th>0</th>\n",
              "      <td>Logistic Regression</td>\n",
              "      <td>85.000000</td>\n",
              "    </tr>\n",
              "    <tr>\n",
              "      <th>3</th>\n",
              "      <td>SVM</td>\n",
              "      <td>85.000000</td>\n",
              "    </tr>\n",
              "    <tr>\n",
              "      <th>7</th>\n",
              "      <td>Decision Tree Max</td>\n",
              "      <td>85.000000</td>\n",
              "    </tr>\n",
              "    <tr>\n",
              "      <th>9</th>\n",
              "      <td>Random Forest Max</td>\n",
              "      <td>85.000000</td>\n",
              "    </tr>\n",
              "    <tr>\n",
              "      <th>6</th>\n",
              "      <td>Decision Tree</td>\n",
              "      <td>83.333333</td>\n",
              "    </tr>\n",
              "    <tr>\n",
              "      <th>8</th>\n",
              "      <td>Random Forest</td>\n",
              "      <td>83.333333</td>\n",
              "    </tr>\n",
              "    <tr>\n",
              "      <th>4</th>\n",
              "      <td>Categorical NB</td>\n",
              "      <td>80.000000</td>\n",
              "    </tr>\n",
              "    <tr>\n",
              "      <th>2</th>\n",
              "      <td>K Neighbors Max</td>\n",
              "      <td>76.666667</td>\n",
              "    </tr>\n",
              "    <tr>\n",
              "      <th>5</th>\n",
              "      <td>Gaussian NB</td>\n",
              "      <td>70.000000</td>\n",
              "    </tr>\n",
              "    <tr>\n",
              "      <th>1</th>\n",
              "      <td>K Neighbors</td>\n",
              "      <td>68.333333</td>\n",
              "    </tr>\n",
              "  </tbody>\n",
              "</table>\n",
              "</div>\n",
              "      <button class=\"colab-df-convert\" onclick=\"convertToInteractive('df-761821ac-f32e-42d1-9c0d-a48470085a82')\"\n",
              "              title=\"Convert this dataframe to an interactive table.\"\n",
              "              style=\"display:none;\">\n",
              "        \n",
              "  <svg xmlns=\"http://www.w3.org/2000/svg\" height=\"24px\"viewBox=\"0 0 24 24\"\n",
              "       width=\"24px\">\n",
              "    <path d=\"M0 0h24v24H0V0z\" fill=\"none\"/>\n",
              "    <path d=\"M18.56 5.44l.94 2.06.94-2.06 2.06-.94-2.06-.94-.94-2.06-.94 2.06-2.06.94zm-11 1L8.5 8.5l.94-2.06 2.06-.94-2.06-.94L8.5 2.5l-.94 2.06-2.06.94zm10 10l.94 2.06.94-2.06 2.06-.94-2.06-.94-.94-2.06-.94 2.06-2.06.94z\"/><path d=\"M17.41 7.96l-1.37-1.37c-.4-.4-.92-.59-1.43-.59-.52 0-1.04.2-1.43.59L10.3 9.45l-7.72 7.72c-.78.78-.78 2.05 0 2.83L4 21.41c.39.39.9.59 1.41.59.51 0 1.02-.2 1.41-.59l7.78-7.78 2.81-2.81c.8-.78.8-2.07 0-2.86zM5.41 20L4 18.59l7.72-7.72 1.47 1.35L5.41 20z\"/>\n",
              "  </svg>\n",
              "      </button>\n",
              "      \n",
              "  <style>\n",
              "    .colab-df-container {\n",
              "      display:flex;\n",
              "      flex-wrap:wrap;\n",
              "      gap: 12px;\n",
              "    }\n",
              "\n",
              "    .colab-df-convert {\n",
              "      background-color: #E8F0FE;\n",
              "      border: none;\n",
              "      border-radius: 50%;\n",
              "      cursor: pointer;\n",
              "      display: none;\n",
              "      fill: #1967D2;\n",
              "      height: 32px;\n",
              "      padding: 0 0 0 0;\n",
              "      width: 32px;\n",
              "    }\n",
              "\n",
              "    .colab-df-convert:hover {\n",
              "      background-color: #E2EBFA;\n",
              "      box-shadow: 0px 1px 2px rgba(60, 64, 67, 0.3), 0px 1px 3px 1px rgba(60, 64, 67, 0.15);\n",
              "      fill: #174EA6;\n",
              "    }\n",
              "\n",
              "    [theme=dark] .colab-df-convert {\n",
              "      background-color: #3B4455;\n",
              "      fill: #D2E3FC;\n",
              "    }\n",
              "\n",
              "    [theme=dark] .colab-df-convert:hover {\n",
              "      background-color: #434B5C;\n",
              "      box-shadow: 0px 1px 3px 1px rgba(0, 0, 0, 0.15);\n",
              "      filter: drop-shadow(0px 1px 2px rgba(0, 0, 0, 0.3));\n",
              "      fill: #FFFFFF;\n",
              "    }\n",
              "  </style>\n",
              "\n",
              "      <script>\n",
              "        const buttonEl =\n",
              "          document.querySelector('#df-761821ac-f32e-42d1-9c0d-a48470085a82 button.colab-df-convert');\n",
              "        buttonEl.style.display =\n",
              "          google.colab.kernel.accessAllowed ? 'block' : 'none';\n",
              "\n",
              "        async function convertToInteractive(key) {\n",
              "          const element = document.querySelector('#df-761821ac-f32e-42d1-9c0d-a48470085a82');\n",
              "          const dataTable =\n",
              "            await google.colab.kernel.invokeFunction('convertToInteractive',\n",
              "                                                     [key], {});\n",
              "          if (!dataTable) return;\n",
              "\n",
              "          const docLinkHtml = 'Like what you see? Visit the ' +\n",
              "            '<a target=\"_blank\" href=https://colab.research.google.com/notebooks/data_table.ipynb>data table notebook</a>'\n",
              "            + ' to learn more about interactive tables.';\n",
              "          element.innerHTML = '';\n",
              "          dataTable['output_type'] = 'display_data';\n",
              "          await google.colab.output.renderOutput(dataTable, element);\n",
              "          const docLink = document.createElement('div');\n",
              "          docLink.innerHTML = docLinkHtml;\n",
              "          element.appendChild(docLink);\n",
              "        }\n",
              "      </script>\n",
              "    </div>\n",
              "  </div>\n",
              "  "
            ]
          },
          "metadata": {},
          "execution_count": 41
        }
      ],
      "source": [
        "compare = pd.DataFrame({'Model': ['Logistic Regression', 'K Neighbors', 'K Neighbors Max', 'SVM', 'Categorical NB', 'Gaussian NB', 'Decision Tree', 'Decision Tree Max', 'Random Forest', 'Random Forest Max'], \n",
        "                        'Accuracy': [LRAcc*100, KNAcc*100, KNAccMax*100, SVCAcc*100, NBAcc1*100, NBAcc2*100, DTAcc*100, DTAccMax*100, RFAcc*100, RFAccMax*100]})\n",
        "compare.sort_values(by='Accuracy', ascending=False)"
      ]
    },
    {
      "cell_type": "markdown",
      "id": "5d75c22f",
      "metadata": {
        "id": "5d75c22f",
        "papermill": {
          "duration": 0.082927,
          "end_time": "2022-05-04T02:55:07.250053",
          "exception": false,
          "start_time": "2022-05-04T02:55:07.167126",
          "status": "completed"
        },
        "tags": []
      },
      "source": [
        "--> From the results, it can be seen that most of ML models can reach **up to 80% accuracy** in predicting classification of drug type."
      ]
    },
    {
      "cell_type": "markdown",
      "id": "b470c677",
      "metadata": {
        "papermill": {
          "duration": 0.084176,
          "end_time": "2022-05-04T02:55:07.417492",
          "exception": false,
          "start_time": "2022-05-04T02:55:07.333316",
          "status": "completed"
        },
        "tags": [],
        "id": "b470c677"
      },
      "source": [
        "# Output\n",
        "--> The next step will make output results in csv file."
      ]
    },
    {
      "cell_type": "markdown",
      "id": "44abc6a7",
      "metadata": {
        "papermill": {
          "duration": 0.081164,
          "end_time": "2022-05-04T02:55:07.579797",
          "exception": false,
          "start_time": "2022-05-04T02:55:07.498633",
          "status": "completed"
        },
        "tags": [],
        "id": "44abc6a7"
      },
      "source": [
        "## Transforming prediction in appropriate output format"
      ]
    },
    {
      "cell_type": "code",
      "execution_count": 42,
      "id": "6ff86056",
      "metadata": {
        "execution": {
          "iopub.execute_input": "2022-05-04T02:55:07.744490Z",
          "iopub.status.busy": "2022-05-04T02:55:07.743787Z",
          "iopub.status.idle": "2022-05-04T02:55:07.757167Z",
          "shell.execute_reply": "2022-05-04T02:55:07.757712Z",
          "shell.execute_reply.started": "2022-03-08T01:26:43.776906Z"
        },
        "papermill": {
          "duration": 0.097648,
          "end_time": "2022-05-04T02:55:07.757890",
          "exception": false,
          "start_time": "2022-05-04T02:55:07.660242",
          "status": "completed"
        },
        "scrolled": true,
        "tags": [],
        "id": "6ff86056"
      },
      "outputs": [],
      "source": [
        "pred_lr = NBclassifier1.predict(X_test)\n",
        "prediction = pd.DataFrame({'Sex_F': X_test.loc[:,\"Sex_F\"], \n",
        "                           'Sex_M': X_test.loc[:,\"Sex_M\"], \n",
        "                           'BP_HIGH': X_test.loc[:,\"BP_HIGH\"], \n",
        "                           'BP_LOW': X_test.loc[:,\"BP_LOW\"],\n",
        "                           'BP_NORMAL': X_test.loc[:,\"BP_NORMAL\"],\n",
        "                           'Cholesterol_HIGH': X_test.loc[:,\"Cholesterol_HIGH\"],\n",
        "                           'Cholesterol_NORMAL': X_test.loc[:,\"Cholesterol_NORMAL\"],\n",
        "                           'Age_binned_<20s': X_test.loc[:,\"Age_binned_<20s\"],\n",
        "                           'Age_binned_20s': X_test.loc[:,\"Age_binned_20s\"],\n",
        "                           'Age_binned_30s': X_test.loc[:,\"Age_binned_30s\"],\n",
        "                           'Age_binned_40s': X_test.loc[:,\"Age_binned_40s\"],\n",
        "                           'Age_binned_50s': X_test.loc[:,\"Age_binned_50s\"],\n",
        "                           'Age_binned_60s': X_test.loc[:,\"Age_binned_60s\"],\n",
        "                           'Age_binned_>60s': X_test.loc[:,\"Age_binned_>60s\"],\n",
        "                           'Na_to_K_binned_<10': X_test.loc[:,\"Na_to_K_binned_<10\"],\n",
        "                           'Na_to_K_binned_10-20': X_test.loc[:,\"Na_to_K_binned_10-20\"],\n",
        "                           'Na_to_K_binned_20-30': X_test.loc[:,\"Na_to_K_binned_20-30\"],\n",
        "                           'Na_to_K_binned_>30': X_test.loc[:,\"Na_to_K_binned_>30\"],'DrugType': pred_lr})"
      ]
    },
    {
      "cell_type": "code",
      "execution_count": 43,
      "id": "4e0a857e",
      "metadata": {
        "execution": {
          "iopub.execute_input": "2022-05-04T02:55:07.925228Z",
          "iopub.status.busy": "2022-05-04T02:55:07.924473Z",
          "iopub.status.idle": "2022-05-04T02:55:07.970602Z",
          "shell.execute_reply": "2022-05-04T02:55:07.970068Z",
          "shell.execute_reply.started": "2022-03-08T01:26:43.799653Z"
        },
        "papermill": {
          "duration": 0.131211,
          "end_time": "2022-05-04T02:55:07.970773",
          "exception": false,
          "start_time": "2022-05-04T02:55:07.839562",
          "status": "completed"
        },
        "tags": [],
        "id": "4e0a857e"
      },
      "outputs": [],
      "source": [
        "# Sex\n",
        "prediction['Sex_F'] = prediction['Sex_F'].replace([1, 0],['Female', 'Male'])\n",
        "\n",
        "#BP\n",
        "prediction['BP_HIGH'] = prediction['BP_HIGH'].replace([1, 0],['High',''])\n",
        "prediction['BP_LOW'] = prediction['BP_LOW'].replace([1, 0],['Low', ''])\n",
        "prediction['BP_NORMAL'] = prediction['BP_NORMAL'].replace([1, 0],['Normal', ''])\n",
        "\n",
        "prediction['BP_HIGH'] = np.where((prediction['BP_HIGH'] == ''), prediction['BP_LOW'], prediction['BP_HIGH'])\n",
        "prediction['BP_HIGH'] = np.where((prediction['BP_HIGH'] == ''), prediction['BP_NORMAL'], prediction['BP_HIGH'])\n",
        "\n",
        "#Cholestrol\n",
        "prediction['Cholesterol_HIGH'] = prediction['Cholesterol_HIGH'].replace([1, 0],['High', 'Normal'])\n",
        "\n",
        "#Age_binned\n",
        "prediction['Age_binned_<20s'] = prediction['Age_binned_<20s'].replace([1, 0],['<20s',''])\n",
        "prediction['Age_binned_20s'] = prediction['Age_binned_20s'].replace([1, 0],['20s',''])\n",
        "prediction['Age_binned_30s'] = prediction['Age_binned_30s'].replace([1, 0],['30s',''])\n",
        "prediction['Age_binned_40s'] = prediction['Age_binned_40s'].replace([1, 0],['40s',''])\n",
        "prediction['Age_binned_50s'] = prediction['Age_binned_50s'].replace([1, 0],['50s',''])\n",
        "prediction['Age_binned_60s'] = prediction['Age_binned_60s'].replace([1, 0],['60s',''])\n",
        "prediction['Age_binned_>60s'] = prediction['Age_binned_>60s'].replace([1, 0],['>60s',''])\n",
        "\n",
        "prediction['Age_binned_<20s'] = np.where((prediction['Age_binned_<20s'] == ''), prediction['Age_binned_20s'], prediction['Age_binned_<20s'])\n",
        "prediction['Age_binned_<20s'] = np.where((prediction['Age_binned_<20s'] == ''), prediction['Age_binned_30s'], prediction['Age_binned_<20s'])\n",
        "prediction['Age_binned_<20s'] = np.where((prediction['Age_binned_<20s'] == ''), prediction['Age_binned_40s'], prediction['Age_binned_<20s'])\n",
        "prediction['Age_binned_<20s'] = np.where((prediction['Age_binned_<20s'] == ''), prediction['Age_binned_50s'], prediction['Age_binned_<20s'])\n",
        "prediction['Age_binned_<20s'] = np.where((prediction['Age_binned_<20s'] == ''), prediction['Age_binned_60s'], prediction['Age_binned_<20s'])\n",
        "prediction['Age_binned_<20s'] = np.where((prediction['Age_binned_<20s'] == ''), prediction['Age_binned_>60s'], prediction['Age_binned_<20s'])\n",
        "\n",
        "#Na to K\n",
        "prediction['Na_to_K_binned_<10'] = prediction['Na_to_K_binned_<10'].replace([1, 0],['<10',''])\n",
        "prediction['Na_to_K_binned_10-20'] = prediction['Na_to_K_binned_10-20'].replace([1, 0],['10-20',''])\n",
        "prediction['Na_to_K_binned_20-30'] = prediction['Na_to_K_binned_20-30'].replace([1, 0],['20-30',''])\n",
        "prediction['Na_to_K_binned_>30'] = prediction['Na_to_K_binned_>30'].replace([1, 0],['>30s',''])\n",
        "\n",
        "prediction['Na_to_K_binned_<10'] = np.where((prediction['Na_to_K_binned_<10'] == ''), prediction['Na_to_K_binned_10-20'], prediction['Na_to_K_binned_<10'])\n",
        "prediction['Na_to_K_binned_<10'] = np.where((prediction['Na_to_K_binned_<10'] == ''), prediction['Na_to_K_binned_20-30'], prediction['Na_to_K_binned_<10'])\n",
        "prediction['Na_to_K_binned_<10'] = np.where((prediction['Na_to_K_binned_<10'] == ''), prediction['Na_to_K_binned_>30'], prediction['Na_to_K_binned_<10'])\n",
        "\n",
        "# Drop columns\n",
        "prediction = prediction.drop(['Sex_M', 'BP_LOW', 'BP_NORMAL', 'Cholesterol_NORMAL', 'Age_binned_20s', 'Age_binned_30s',\n",
        "                 'Age_binned_40s', 'Age_binned_50s', 'Age_binned_60s', 'Age_binned_>60s',\n",
        "                'Na_to_K_binned_10-20', 'Na_to_K_binned_20-30', 'Na_to_K_binned_>30'], axis = 1)"
      ]
    },
    {
      "cell_type": "code",
      "execution_count": 44,
      "id": "8d603d1d",
      "metadata": {
        "execution": {
          "iopub.execute_input": "2022-05-04T02:55:08.142301Z",
          "iopub.status.busy": "2022-05-04T02:55:08.141589Z",
          "iopub.status.idle": "2022-05-04T02:55:08.143662Z",
          "shell.execute_reply": "2022-05-04T02:55:08.144198Z",
          "shell.execute_reply.started": "2022-03-08T01:26:43.848292Z"
        },
        "papermill": {
          "duration": 0.090514,
          "end_time": "2022-05-04T02:55:08.144533",
          "exception": false,
          "start_time": "2022-05-04T02:55:08.054019",
          "status": "completed"
        },
        "tags": [],
        "id": "8d603d1d"
      },
      "outputs": [],
      "source": [
        "# Rename columns name\n",
        "new_name = {'Sex_F': 'Sex', 'BP_HIGH': 'BP', 'Cholesterol_HIGH': 'Cholesterol', 'Age_binned_<20s': 'Age_binned',\n",
        "          'Na_to_K_binned_<10': 'Na_to_K_binned'}\n",
        "prediction.rename(columns=new_name, inplace=True)"
      ]
    },
    {
      "cell_type": "markdown",
      "id": "b10c4587",
      "metadata": {
        "papermill": {
          "duration": 0.080601,
          "end_time": "2022-05-04T02:55:08.307497",
          "exception": false,
          "start_time": "2022-05-04T02:55:08.226896",
          "status": "completed"
        },
        "tags": [],
        "id": "b10c4587"
      },
      "source": [
        "## Generating output file (CSV)\n",
        "\n"
      ]
    },
    {
      "cell_type": "code",
      "execution_count": 45,
      "id": "151142c8",
      "metadata": {
        "execution": {
          "iopub.execute_input": "2022-05-04T02:55:08.469427Z",
          "iopub.status.busy": "2022-05-04T02:55:08.468705Z",
          "iopub.status.idle": "2022-05-04T02:55:08.485885Z",
          "shell.execute_reply": "2022-05-04T02:55:08.486500Z",
          "shell.execute_reply.started": "2022-03-08T01:26:43.856338Z"
        },
        "papermill": {
          "duration": 0.099969,
          "end_time": "2022-05-04T02:55:08.486680",
          "exception": false,
          "start_time": "2022-05-04T02:55:08.386711",
          "status": "completed"
        },
        "tags": [],
        "colab": {
          "base_uri": "https://localhost:8080/",
          "height": 206
        },
        "id": "151142c8",
        "outputId": "cae33737-6e7a-425b-a133-0c3a6684dc7e"
      },
      "outputs": [
        {
          "output_type": "execute_result",
          "data": {
            "text/plain": [
              "      Sex      BP Cholesterol Age_binned Na_to_K_binned DrugType\n",
              "0    Male     Low        High        20s            <10    drugX\n",
              "1  Female  Normal        High        20s          10-20    drugX\n",
              "2    Male     Low        High        40s          20-30    drugY\n",
              "3    Male    High      Normal        20s           >30s    drugY\n",
              "4    Male  Normal        High        20s          20-30    drugY"
            ],
            "text/html": [
              "\n",
              "  <div id=\"df-b74acefc-0d4c-4cb8-8687-2b3588a89dc2\">\n",
              "    <div class=\"colab-df-container\">\n",
              "      <div>\n",
              "<style scoped>\n",
              "    .dataframe tbody tr th:only-of-type {\n",
              "        vertical-align: middle;\n",
              "    }\n",
              "\n",
              "    .dataframe tbody tr th {\n",
              "        vertical-align: top;\n",
              "    }\n",
              "\n",
              "    .dataframe thead th {\n",
              "        text-align: right;\n",
              "    }\n",
              "</style>\n",
              "<table border=\"1\" class=\"dataframe\">\n",
              "  <thead>\n",
              "    <tr style=\"text-align: right;\">\n",
              "      <th></th>\n",
              "      <th>Sex</th>\n",
              "      <th>BP</th>\n",
              "      <th>Cholesterol</th>\n",
              "      <th>Age_binned</th>\n",
              "      <th>Na_to_K_binned</th>\n",
              "      <th>DrugType</th>\n",
              "    </tr>\n",
              "  </thead>\n",
              "  <tbody>\n",
              "    <tr>\n",
              "      <th>0</th>\n",
              "      <td>Male</td>\n",
              "      <td>Low</td>\n",
              "      <td>High</td>\n",
              "      <td>20s</td>\n",
              "      <td>&lt;10</td>\n",
              "      <td>drugX</td>\n",
              "    </tr>\n",
              "    <tr>\n",
              "      <th>1</th>\n",
              "      <td>Female</td>\n",
              "      <td>Normal</td>\n",
              "      <td>High</td>\n",
              "      <td>20s</td>\n",
              "      <td>10-20</td>\n",
              "      <td>drugX</td>\n",
              "    </tr>\n",
              "    <tr>\n",
              "      <th>2</th>\n",
              "      <td>Male</td>\n",
              "      <td>Low</td>\n",
              "      <td>High</td>\n",
              "      <td>40s</td>\n",
              "      <td>20-30</td>\n",
              "      <td>drugY</td>\n",
              "    </tr>\n",
              "    <tr>\n",
              "      <th>3</th>\n",
              "      <td>Male</td>\n",
              "      <td>High</td>\n",
              "      <td>Normal</td>\n",
              "      <td>20s</td>\n",
              "      <td>&gt;30s</td>\n",
              "      <td>drugY</td>\n",
              "    </tr>\n",
              "    <tr>\n",
              "      <th>4</th>\n",
              "      <td>Male</td>\n",
              "      <td>Normal</td>\n",
              "      <td>High</td>\n",
              "      <td>20s</td>\n",
              "      <td>20-30</td>\n",
              "      <td>drugY</td>\n",
              "    </tr>\n",
              "  </tbody>\n",
              "</table>\n",
              "</div>\n",
              "      <button class=\"colab-df-convert\" onclick=\"convertToInteractive('df-b74acefc-0d4c-4cb8-8687-2b3588a89dc2')\"\n",
              "              title=\"Convert this dataframe to an interactive table.\"\n",
              "              style=\"display:none;\">\n",
              "        \n",
              "  <svg xmlns=\"http://www.w3.org/2000/svg\" height=\"24px\"viewBox=\"0 0 24 24\"\n",
              "       width=\"24px\">\n",
              "    <path d=\"M0 0h24v24H0V0z\" fill=\"none\"/>\n",
              "    <path d=\"M18.56 5.44l.94 2.06.94-2.06 2.06-.94-2.06-.94-.94-2.06-.94 2.06-2.06.94zm-11 1L8.5 8.5l.94-2.06 2.06-.94-2.06-.94L8.5 2.5l-.94 2.06-2.06.94zm10 10l.94 2.06.94-2.06 2.06-.94-2.06-.94-.94-2.06-.94 2.06-2.06.94z\"/><path d=\"M17.41 7.96l-1.37-1.37c-.4-.4-.92-.59-1.43-.59-.52 0-1.04.2-1.43.59L10.3 9.45l-7.72 7.72c-.78.78-.78 2.05 0 2.83L4 21.41c.39.39.9.59 1.41.59.51 0 1.02-.2 1.41-.59l7.78-7.78 2.81-2.81c.8-.78.8-2.07 0-2.86zM5.41 20L4 18.59l7.72-7.72 1.47 1.35L5.41 20z\"/>\n",
              "  </svg>\n",
              "      </button>\n",
              "      \n",
              "  <style>\n",
              "    .colab-df-container {\n",
              "      display:flex;\n",
              "      flex-wrap:wrap;\n",
              "      gap: 12px;\n",
              "    }\n",
              "\n",
              "    .colab-df-convert {\n",
              "      background-color: #E8F0FE;\n",
              "      border: none;\n",
              "      border-radius: 50%;\n",
              "      cursor: pointer;\n",
              "      display: none;\n",
              "      fill: #1967D2;\n",
              "      height: 32px;\n",
              "      padding: 0 0 0 0;\n",
              "      width: 32px;\n",
              "    }\n",
              "\n",
              "    .colab-df-convert:hover {\n",
              "      background-color: #E2EBFA;\n",
              "      box-shadow: 0px 1px 2px rgba(60, 64, 67, 0.3), 0px 1px 3px 1px rgba(60, 64, 67, 0.15);\n",
              "      fill: #174EA6;\n",
              "    }\n",
              "\n",
              "    [theme=dark] .colab-df-convert {\n",
              "      background-color: #3B4455;\n",
              "      fill: #D2E3FC;\n",
              "    }\n",
              "\n",
              "    [theme=dark] .colab-df-convert:hover {\n",
              "      background-color: #434B5C;\n",
              "      box-shadow: 0px 1px 3px 1px rgba(0, 0, 0, 0.15);\n",
              "      filter: drop-shadow(0px 1px 2px rgba(0, 0, 0, 0.3));\n",
              "      fill: #FFFFFF;\n",
              "    }\n",
              "  </style>\n",
              "\n",
              "      <script>\n",
              "        const buttonEl =\n",
              "          document.querySelector('#df-b74acefc-0d4c-4cb8-8687-2b3588a89dc2 button.colab-df-convert');\n",
              "        buttonEl.style.display =\n",
              "          google.colab.kernel.accessAllowed ? 'block' : 'none';\n",
              "\n",
              "        async function convertToInteractive(key) {\n",
              "          const element = document.querySelector('#df-b74acefc-0d4c-4cb8-8687-2b3588a89dc2');\n",
              "          const dataTable =\n",
              "            await google.colab.kernel.invokeFunction('convertToInteractive',\n",
              "                                                     [key], {});\n",
              "          if (!dataTable) return;\n",
              "\n",
              "          const docLinkHtml = 'Like what you see? Visit the ' +\n",
              "            '<a target=\"_blank\" href=https://colab.research.google.com/notebooks/data_table.ipynb>data table notebook</a>'\n",
              "            + ' to learn more about interactive tables.';\n",
              "          element.innerHTML = '';\n",
              "          dataTable['output_type'] = 'display_data';\n",
              "          await google.colab.output.renderOutput(dataTable, element);\n",
              "          const docLink = document.createElement('div');\n",
              "          docLink.innerHTML = docLinkHtml;\n",
              "          element.appendChild(docLink);\n",
              "        }\n",
              "      </script>\n",
              "    </div>\n",
              "  </div>\n",
              "  "
            ]
          },
          "metadata": {},
          "execution_count": 45
        }
      ],
      "source": [
        "prediction.to_csv('prediction.csv', index=False)\n",
        "predictioncsv = pd.read_csv('./prediction.csv')\n",
        "predictioncsv.head()"
      ]
    }
  ],
  "metadata": {
    "kernelspec": {
      "display_name": "Python 3",
      "language": "python",
      "name": "python3"
    },
    "language_info": {
      "codemirror_mode": {
        "name": "ipython",
        "version": 3
      },
      "file_extension": ".py",
      "mimetype": "text/x-python",
      "name": "python",
      "nbconvert_exporter": "python",
      "pygments_lexer": "ipython3",
      "version": "3.7.10"
    },
    "papermill": {
      "default_parameters": {},
      "duration": 123.972965,
      "end_time": "2022-05-04T02:55:10.135212",
      "environment_variables": {},
      "exception": null,
      "input_path": "__notebook__.ipynb",
      "output_path": "__notebook__.ipynb",
      "parameters": {},
      "start_time": "2022-05-04T02:53:06.162247",
      "version": "2.3.3"
    },
    "colab": {
      "provenance": []
    }
  },
  "nbformat": 4,
  "nbformat_minor": 5
}