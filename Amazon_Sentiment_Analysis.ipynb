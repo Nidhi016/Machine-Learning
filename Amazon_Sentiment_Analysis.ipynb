{
  "cells": [
    {
      "cell_type": "code",
      "execution_count": null,
      "id": "5f8b4e16",
      "metadata": {
        "id": "5f8b4e16"
      },
      "outputs": [],
      "source": [
        "import pandas as pd\n",
        "import numpy as np\n",
        "\n",
        "df = pd.read_csv('amazon_baby.csv')"
      ]
    },
    {
      "cell_type": "code",
      "execution_count": null,
      "id": "8e402c37",
      "metadata": {
        "id": "8e402c37",
        "outputId": "9307d2d3-92bb-48e0-c19b-b865555deece"
      },
      "outputs": [
        {
          "data": {
            "text/plain": [
              "name      318\n",
              "review    829\n",
              "rating      0\n",
              "dtype: int64"
            ]
          },
          "execution_count": 3,
          "metadata": {},
          "output_type": "execute_result"
        }
      ],
      "source": [
        "df.isnull().sum()"
      ]
    },
    {
      "cell_type": "code",
      "execution_count": null,
      "id": "40e4c3a3",
      "metadata": {
        "scrolled": true,
        "id": "40e4c3a3",
        "outputId": "10ef608c-2b27-48a9-e42d-db31665b9d0f"
      },
      "outputs": [
        {
          "data": {
            "text/html": [
              "<div>\n",
              "<style scoped>\n",
              "    .dataframe tbody tr th:only-of-type {\n",
              "        vertical-align: middle;\n",
              "    }\n",
              "\n",
              "    .dataframe tbody tr th {\n",
              "        vertical-align: top;\n",
              "    }\n",
              "\n",
              "    .dataframe thead th {\n",
              "        text-align: right;\n",
              "    }\n",
              "</style>\n",
              "<table border=\"1\" class=\"dataframe\">\n",
              "  <thead>\n",
              "    <tr style=\"text-align: right;\">\n",
              "      <th></th>\n",
              "      <th>name</th>\n",
              "      <th>review</th>\n",
              "      <th>rating</th>\n",
              "    </tr>\n",
              "  </thead>\n",
              "  <tbody>\n",
              "    <tr>\n",
              "      <th>0</th>\n",
              "      <td>Planetwise Flannel Wipes</td>\n",
              "      <td>These flannel wipes are OK, but in my opinion ...</td>\n",
              "      <td>3</td>\n",
              "    </tr>\n",
              "    <tr>\n",
              "      <th>1</th>\n",
              "      <td>Planetwise Wipe Pouch</td>\n",
              "      <td>it came early and was not disappointed. i love...</td>\n",
              "      <td>5</td>\n",
              "    </tr>\n",
              "    <tr>\n",
              "      <th>2</th>\n",
              "      <td>Annas Dream Full Quilt with 2 Shams</td>\n",
              "      <td>Very soft and comfortable and warmer than it l...</td>\n",
              "      <td>5</td>\n",
              "    </tr>\n",
              "    <tr>\n",
              "      <th>3</th>\n",
              "      <td>Stop Pacifier Sucking without tears with Thumb...</td>\n",
              "      <td>This is a product well worth the purchase.  I ...</td>\n",
              "      <td>5</td>\n",
              "    </tr>\n",
              "    <tr>\n",
              "      <th>4</th>\n",
              "      <td>Stop Pacifier Sucking without tears with Thumb...</td>\n",
              "      <td>All of my kids have cried non-stop when I trie...</td>\n",
              "      <td>5</td>\n",
              "    </tr>\n",
              "  </tbody>\n",
              "</table>\n",
              "</div>"
            ],
            "text/plain": [
              "                                                name  \\\n",
              "0                           Planetwise Flannel Wipes   \n",
              "1                              Planetwise Wipe Pouch   \n",
              "2                Annas Dream Full Quilt with 2 Shams   \n",
              "3  Stop Pacifier Sucking without tears with Thumb...   \n",
              "4  Stop Pacifier Sucking without tears with Thumb...   \n",
              "\n",
              "                                              review  rating  \n",
              "0  These flannel wipes are OK, but in my opinion ...       3  \n",
              "1  it came early and was not disappointed. i love...       5  \n",
              "2  Very soft and comfortable and warmer than it l...       5  \n",
              "3  This is a product well worth the purchase.  I ...       5  \n",
              "4  All of my kids have cried non-stop when I trie...       5  "
            ]
          },
          "execution_count": 26,
          "metadata": {},
          "output_type": "execute_result"
        }
      ],
      "source": [
        "df.head()"
      ]
    },
    {
      "cell_type": "code",
      "execution_count": null,
      "id": "8bc80bcc",
      "metadata": {
        "id": "8bc80bcc",
        "outputId": "58b2a638-e982-4863-ebb6-fbf2717a0e7b"
      },
      "outputs": [
        {
          "data": {
            "text/plain": [
              "(183531, 3)"
            ]
          },
          "execution_count": 27,
          "metadata": {},
          "output_type": "execute_result"
        }
      ],
      "source": [
        "df.shape"
      ]
    },
    {
      "cell_type": "code",
      "execution_count": null,
      "id": "4d8df642",
      "metadata": {
        "id": "4d8df642"
      },
      "outputs": [],
      "source": [
        "#getting rid of null values\n",
        "df = df.dropna()\n",
        "#Taking a 30% representative sample\n",
        "import numpy as np\n",
        "np.random.seed(34)\n",
        "df1 = df.sample(frac = 0.3)\n",
        "#Adding the sentiments column\n",
        "df1['sentiments'] = df1.rating.apply(lambda x: 0 if x in [1, 2] else 1)"
      ]
    },
    {
      "cell_type": "code",
      "execution_count": null,
      "id": "8173421d",
      "metadata": {
        "id": "8173421d",
        "outputId": "54ce7f9c-b07d-48a6-adce-23c83a894eb5"
      },
      "outputs": [
        {
          "data": {
            "text/html": [
              "<div>\n",
              "<style scoped>\n",
              "    .dataframe tbody tr th:only-of-type {\n",
              "        vertical-align: middle;\n",
              "    }\n",
              "\n",
              "    .dataframe tbody tr th {\n",
              "        vertical-align: top;\n",
              "    }\n",
              "\n",
              "    .dataframe thead th {\n",
              "        text-align: right;\n",
              "    }\n",
              "</style>\n",
              "<table border=\"1\" class=\"dataframe\">\n",
              "  <thead>\n",
              "    <tr style=\"text-align: right;\">\n",
              "      <th></th>\n",
              "      <th>name</th>\n",
              "      <th>review</th>\n",
              "      <th>rating</th>\n",
              "      <th>sentiments</th>\n",
              "    </tr>\n",
              "  </thead>\n",
              "  <tbody>\n",
              "    <tr>\n",
              "      <th>165191</th>\n",
              "      <td>aden + anais Rayon From Bamboo Crib Sheet, Azu...</td>\n",
              "      <td>An off-white or cream sheet that is so soft. I...</td>\n",
              "      <td>5</td>\n",
              "      <td>1</td>\n",
              "    </tr>\n",
              "    <tr>\n",
              "      <th>108775</th>\n",
              "      <td>Hand Held Scalp Head Massager - Set of Three (...</td>\n",
              "      <td>I was skeptical about how well these will work...</td>\n",
              "      <td>5</td>\n",
              "      <td>1</td>\n",
              "    </tr>\n",
              "    <tr>\n",
              "      <th>162820</th>\n",
              "      <td>Clevamama ClevaFoam Baby Pillow, Cream</td>\n",
              "      <td>It soft and material appears to be excellent. ...</td>\n",
              "      <td>5</td>\n",
              "      <td>1</td>\n",
              "    </tr>\n",
              "    <tr>\n",
              "      <th>148217</th>\n",
              "      <td>Kids Line Velour Changing Pad Cover, Pirate Party</td>\n",
              "      <td>This is a very nice cover. I have two because ...</td>\n",
              "      <td>5</td>\n",
              "      <td>1</td>\n",
              "    </tr>\n",
              "    <tr>\n",
              "      <th>46428</th>\n",
              "      <td>Angel Dear Blankie, Green Frog</td>\n",
              "      <td>I love these Lovies. They are cute, soft and d...</td>\n",
              "      <td>5</td>\n",
              "      <td>1</td>\n",
              "    </tr>\n",
              "  </tbody>\n",
              "</table>\n",
              "</div>"
            ],
            "text/plain": [
              "                                                     name  \\\n",
              "165191  aden + anais Rayon From Bamboo Crib Sheet, Azu...   \n",
              "108775  Hand Held Scalp Head Massager - Set of Three (...   \n",
              "162820             Clevamama ClevaFoam Baby Pillow, Cream   \n",
              "148217  Kids Line Velour Changing Pad Cover, Pirate Party   \n",
              "46428                      Angel Dear Blankie, Green Frog   \n",
              "\n",
              "                                                   review  rating  sentiments  \n",
              "165191  An off-white or cream sheet that is so soft. I...       5           1  \n",
              "108775  I was skeptical about how well these will work...       5           1  \n",
              "162820  It soft and material appears to be excellent. ...       5           1  \n",
              "148217  This is a very nice cover. I have two because ...       5           1  \n",
              "46428   I love these Lovies. They are cute, soft and d...       5           1  "
            ]
          },
          "execution_count": 40,
          "metadata": {},
          "output_type": "execute_result"
        }
      ],
      "source": [
        "df1.head()"
      ]
    },
    {
      "cell_type": "code",
      "execution_count": null,
      "id": "276d282e",
      "metadata": {
        "id": "276d282e"
      },
      "outputs": [],
      "source": [
        "X = df1['review']\n",
        "y = df1['sentiments']"
      ]
    },
    {
      "cell_type": "code",
      "execution_count": null,
      "id": "a01c8db6",
      "metadata": {
        "id": "a01c8db6",
        "outputId": "0be3f00c-691c-4e73-fc18-f60e1a9fdac2"
      },
      "outputs": [
        {
          "name": "stdout",
          "output_type": "stream",
          "text": [
            "Results for Logistic Regression with CountVectorizer\n",
            "0.9028072227502011\n",
            "2337 1606 1053 22362\n",
            "0.955 0.5927\n"
          ]
        },
        {
          "name": "stderr",
          "output_type": "stream",
          "text": [
            "D:\\Anaconda\\lib\\site-packages\\sklearn\\linear_model\\_logistic.py:814: ConvergenceWarning: lbfgs failed to converge (status=1):\n",
            "STOP: TOTAL NO. of ITERATIONS REACHED LIMIT.\n",
            "\n",
            "Increase the number of iterations (max_iter) or scale the data as shown in:\n",
            "    https://scikit-learn.org/stable/modules/preprocessing.html\n",
            "Please also refer to the documentation for alternative solver options:\n",
            "    https://scikit-learn.org/stable/modules/linear_model.html#logistic-regression\n",
            "  n_iter_i = _check_optimize_result(\n"
          ]
        }
      ],
      "source": [
        "from sklearn.model_selection import train_test_split\n",
        "X_train, X_test, y_train, y_test = train_test_split(X, y, test_size = 0.5, random_state=24)\n",
        "from sklearn.feature_extraction.text import CountVectorizer\n",
        "cv = CountVectorizer()\n",
        "#Vectorizing the text data\n",
        "ctmTr = cv.fit_transform(X_train)\n",
        "X_test_dtm = cv.transform(X_test)\n",
        "from sklearn.linear_model import LogisticRegression\n",
        "#Training the model\n",
        "lr = LogisticRegression()\n",
        "lr.fit(ctmTr, y_train)\n",
        "#Accuracy score\n",
        "lr_score = lr.score(X_test_dtm, y_test)\n",
        "print(\"Results for Logistic Regression with CountVectorizer\")\n",
        "print(lr_score)\n",
        "#Predicting the labels for test data\n",
        "y_pred_lr = lr.predict(X_test_dtm)\n",
        "from sklearn.metrics import confusion_matrix\n",
        "#Confusion matrix\n",
        "cm_lr = confusion_matrix(y_test, y_pred_lr)\n",
        "tn, fp, fn, tp = confusion_matrix(y_test, y_pred_lr).ravel()\n",
        "print(tn, fp, fn, tp)\n",
        "#True positive and true negative rates\n",
        "tpr_lr = round(tp/(tp + fn), 4)\n",
        "tnr_lr = round(tn/(tn+fp), 4)\n",
        "print(tpr_lr, tnr_lr)\n"
      ]
    },
    {
      "cell_type": "code",
      "execution_count": null,
      "id": "f920cc06",
      "metadata": {
        "id": "f920cc06"
      },
      "outputs": [],
      "source": []
    }
  ],
  "metadata": {
    "kernelspec": {
      "display_name": "Python 3 (ipykernel)",
      "language": "python",
      "name": "python3"
    },
    "language_info": {
      "codemirror_mode": {
        "name": "ipython",
        "version": 3
      },
      "file_extension": ".py",
      "mimetype": "text/x-python",
      "name": "python",
      "nbconvert_exporter": "python",
      "pygments_lexer": "ipython3",
      "version": "3.9.13"
    },
    "colab": {
      "provenance": []
    }
  },
  "nbformat": 4,
  "nbformat_minor": 5
}